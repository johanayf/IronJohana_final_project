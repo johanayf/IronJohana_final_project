{
 "cells": [
  {
   "cell_type": "markdown",
   "id": "8d57142a",
   "metadata": {},
   "source": [
    "# In this notebook, I am going to run the model by using Linkedin Data"
   ]
  },
  {
   "cell_type": "code",
   "execution_count": 1,
   "id": "f0ba26bd",
   "metadata": {},
   "outputs": [],
   "source": [
    "##Import Libraries\n",
    "import pandas as pd\n",
    "import requests\n",
    "import pickle\n",
    "import re\n",
    "import string\n",
    "import unidecode \n",
    "import wordninja\n",
    "import docx2txt\n",
    "from nltk.stem import PorterStemmer\n",
    "from nltk.tokenize import word_tokenize\n",
    "from nltk.stem import WordNetLemmatizer \n",
    "from autocorrect import Speller \n",
    "from nltk.corpus import stopwords \n",
    "from nltk import word_tokenize \n",
    "import seaborn as sns, numpy as np\n",
    "import matplotlib.pyplot as plt\n",
    "from nltk.stem import SnowballStemmer\n",
    "import time\n",
    "import random\n",
    "\n",
    "from sklearn.feature_extraction.text import CountVectorizer, TfidfTransformer\n",
    "from alive_progress import alive_bar\n",
    "pd.set_option(\"display.max_rows\", None, \"display.max_columns\", None)\n",
    "\n",
    "from sklearn.feature_extraction.text import CountVectorizer, TfidfTransformer\n",
    "from sklearn.linear_model import SGDClassifier\n",
    "from sklearn.metrics.pairwise import cosine_similarity\n"
   ]
  },
  {
   "cell_type": "code",
   "execution_count": 108,
   "id": "9cd9a0f3",
   "metadata": {},
   "outputs": [
    {
     "name": "stdout",
     "output_type": "stream",
     "text": [
      "[{\"job_url\": \"https://de.linkedin.com/jobs/view/quality-analyst-turkish-speaker-at-tiktok-3070525045?refId=T74q54AY%2FiHZFPZpRXCc6w%3D%3D&trackingId=QF5dwJKXCWYKNs8fj6SEDA%3D%3D&position=1&pageNum=0&trk=public_jobs_jserp-result_search-card\", \"linkedin_job_url_cleaned\": \"https://de.linkedin.com/jobs/view/quality-analyst-turkish-speaker-at-tiktok-3070525045\", \"company_name\": \"TikTok\", \"company_url\": \"https://www.linkedin.com/company/tiktok?trk=public_jobs_jserp-result_job-search-card-subtitle\", \"linkedin_company_url_cleaned\": \"https://www.linkedin.com/company/tiktok\", \"job_title\": \"Quality Analyst-Turkish Speaker\", \"job_location\": \"Berlin, Berlin, Germany\", \"posted_date\": \"2022-04-19\", \"normalized_company_name\": \"Tiktok\", \"full_text\": \"\\n\\n\\nResponsibilitiesTikTok is the leading destination for short-form mobile video. Our mission is to inspire creativity and bring joy. Our Trust & Safety team's commitment is to keep our online community safe. We have invested heavily in human and machine-based moderation to remove harmful content quickly and often before it reaches our general community. Your well-being is very important to us. As part of this commitment, you will have access to our specially designed wellbeing programs to support your physical and psychological health and wellbeing. Responsibilities 1. Responsible for monitoring international short video content quality to ensure community ecological security. 2. Thorough data analysis, feedback problems & handle necessary escalation and form a quality inspection report. 3. Work closely & hand in hand with other departments to respond immediately to the relevant operation\\u2019s needs. 4. Participate in the development of quality inspection standards and continuously optimize the process and system platform.QualificationsQualifications 1. Bachelor\\u2019s degree is preferred, however not essential 2. Excellent language skills, C1 or above the level in Turkish with English working proficiency. Overseas working/training is a plus. 3. In-depth contact with local customs and culture is highly sensitive to social news. 4. Possess strong learning ability, cross-department communication, and collaboration skills. 5. Able to work under minimal supervision and have strong logic/ common sense related to job nature. 6. Familiar with office software such as Excel, Word, etc. data processing, experience, and other data analysis capabilities are preferred. **Please send your complete application including CV, diplomas, certificates, quotation of selected references** Equal Opportunity TikTok is committed to creating an inclusive space where employees are valued for their skills, experiences, and unique perspectives. Our platform connects people from across the globe and so does our workplace. At TikTok, our mission is to inspire creativity and bring joy. To achieve that goal, we are committed to celebrating our diverse voices and to creating an environment that reflects the many communities we reach. We believe individuals shouldn't be disadvantaged because of their background or identity, but instead should be considered based on their strengths and experience. We are passionate about this and hope you are too.\\n      \\n\\n        Mehr anzeigen\\n\\n        \\n\\n\\n        Weniger anzeigen\\n\\n        \\n\\n\\n\", \"recruiter_name\": \"\", \"linkedin_recruiter_url\": \"\"}, {\"job_url\": \"https://de.linkedin.com/jobs/view/analyst-at-engel-v%C3%B6lkers-commercial-berlin-3082212256?refId=T74q54AY%2FiHZFPZpRXCc6w%3D%3D&trackingId=AHVlifNCe71RC4aX%2FeAg7w%3D%3D&position=2&pageNum=0&trk=public_jobs_jserp-result_search-card\", \"linkedin_job_url_cleaned\": \"https://de.linkedin.com/jobs/view/analyst-at-engel-v%C3%B6lkers-commercial-berlin-3082212256\", \"company_name\": \"Engel & V\\u00f6lkers Commercial Berlin\", \"company_url\": \"https://de.linkedin.com/company/engelvoelkerscommercial?trk=public_jobs_jserp-result_job-search-card-subtitle\", \"linkedin_company_url_cleaned\": \"https://de.linkedin.com/company/engelvoelkerscommercial\", \"job_title\": \"Analyst\", \"job_location\": \"Berlin, Germany\", \"posted_date\": \"2022-05-19\", \"normalized_company_name\": \"Engelvoelkerscommercial\", \"full_text\": \"\\n\\n\\n        We are hiring! wir suchen dringend Analysten f\\u00fcr unser Berliner Commercial Real Estate Investment Team. Meldet Euch!Job Beschreibung: https://www.engelvoelkers.com/de-de/berlincommercial/karriere/\\n      \\n\\n        Mehr anzeigen\\n\\n        \\n\\n\\n        Weniger anzeigen\\n\\n        \\n\\n\\n\", \"recruiter_name\": \"Nachricht an Moritz Chrambach, CFA\", \"linkedin_recruiter_url\": \"https://de.linkedin.com/in/mchrambach\"}, {\"job_url\": \"https://de.linkedin.com/jobs/view/service-operations-analyst-business-performance-m-f-d-berlin-at-tesla-2982986801?refId=T74q54AY%2FiHZFPZpRXCc6w%3D%3D&trackingId=ym5jj%2Bohl9G%2BhwCq660Ppw%3D%3D&position=3&pageNum=0&trk=public_jobs_jserp-result_search-card\", \"linkedin_job_url_cleaned\": \"https://de.linkedin.com/jobs/view/service-operations-analyst-business-performance-m-f-d-berlin-at-tesla-2982986801\", \"company_name\": \"Tesla\", \"company_url\": \"https://www.linkedin.com/company/tesla-motors?trk=public_jobs_jserp-result_job-search-card-subtitle\", \"linkedin_company_url_cleaned\": \"https://www.linkedin.com/company/tesla-motors\", \"job_title\": \"Service Operations Analyst - Business Performance - (m/f/d) Berlin\", \"job_location\": \"Berlin, Berlin, Germany\", \"posted_date\": \"2022-03-24\", \"normalized_company_name\": \"Tesla motors\", \"full_text\": \"\\n\\n\\nThe RoleAt Tesla, our Service Operations Analysts consistently coordinate and support the entire local service operation, ultimately creating a seamless experience for service customers. This role is integral to the efficient running of our service team and will directly support our mission to accelerate the world\\u2019s transition to sustainable energy.As a Service Operations Analyst, you will provide in-depth, timely and collaborative project management and administrative support to both the Country lead and the local service operation. You will provide detailed data analytics to the business in order to drive continuous improvements within service, as well as ensuring best practice across market processes and procedures.To succeed at Tesla, you must be energetic, highly organized, and smart working. You should have a passion for the brand, a collaborative attitude and the ability to create exceptional experiences for both internal and external stakeholders.ResponsibilitiesProvide day-to-day support to the Service Country Manager and/or Service Program Manager as well as the wider service businessProvide comprehensive reporting and analytics at a country level for local initiatives and opportunities, identifying key operational improvements to assist strategic business decision makingBe an active member of country current and upcoming projects and campaigns, supporting continuous improvements within the service organization and liaising with Service Program Lead if requiredTriage incoming issues and request from both internal and external stakeholders, escalating where necessary and collaborating with other teams to ensure a timely resolution of issuesIdentify and inform EMEA Service Operation team of local business improvements at a country levelAct as a guide for business policies and guidelines, including but not limited to, in-house system queries, PO creation and compliance and invoicing processesDriving external vendors to follow invoicing guidelines as per Purchase Order process, proactively reporting non-compliant conduct to responsible managers and procurementCorrectly process non-PO invoices when required, preparing bulk uploads and ensuring correct financial data to obtain approvals in a timely mannerCo-ordinate travel and accommodation for employees when mass support is needed by another service location, including processing relevant expensesEscalate any business-critical issues to senior managementYou may be required to support other markets when required by the businessRequirementsAnalytical with the ability to manipulate mass data into a manageable and meaningful formatThrive in a fast-paced, ever-changing environment with multiple priorities while maintaining attention to detailA creative and out-of-the box problem solving attitude to identify and drive continuous improvementsExcellent communication skills and ability to establish and maintain strong working relationships with both internal stakeholders and customers Ability to excel in a team-based environment and achieve common goalsPossess an understanding of automotive techniques related to repair and servicing of vehiclesDigitally savvy \\u2013 ability to adopt and adapt quickly to new technology and systemsAble to communicate, read, and write effectively in the English language, and German requiredMust have and continue to maintain a valid driving license and safe driving record\\n\\n\\n        Mehr anzeigen\\n\\n        \\n\\n\\n        Weniger anzeigen\\n\\n        \\n\\n\\n\", \"recruiter_name\": \"\", \"linkedin_recruiter_url\": \"\"}, {\"job_url\": \"https://de.linkedin.com/jobs/view/financial-analyst-at-onefootball-3072918154?refId=T74q54AY%2FiHZFPZpRXCc6w%3D%3D&trackingId=OfEu5U%2Fi1ZzImRP3j2ZFnw%3D%3D&position=4&pageNum=0&trk=public_jobs_jserp-result_search-card\", \"linkedin_job_url_cleaned\": \"https://de.linkedin.com/jobs/view/financial-analyst-at-onefootball-3072918154\", \"company_name\": \"OneFootball\", \"company_url\": \"https://de.linkedin.com/company/onefootball?trk=public_jobs_jserp-result_job-search-card-subtitle\", \"linkedin_company_url_cleaned\": \"https://de.linkedin.com/company/onefootball\", \"job_title\": \"Financial Analyst\", \"job_location\": \"Berlin, Berlin, Germany\", \"posted_date\": \"2022-05-06\", \"normalized_company_name\": \"Onefootball\", \"full_text\": \"\\n\\n\\n        Join OneFootball and become a vital part of the Finance team, working across and partnering with all parts of the business (Business Development, Sales, Data Analysts & Engineers, Blockchain & NFT) to drive insights and enhance strategic decision making, while supporting regular day-to-day finance tasks and responsibilities.Ensure that critical business metrics are defined, targets are set, and contribute to co-steer OneFootball network, blockchain business, and daily fantasy sports platform by conducting simulations and business case evaluations.Develop, own, and improve end-to-end business processes, starting with business inception and ending with financial accounting entries.Develop, own, and improve end-to-end business processes, starting with business inception andending with financial accounting entries.OneFootball Network.With hundreds of partners providing content in seven languages, the OneFootball Network is the world\\u2019s leading digital football platform. Articles and videos published to the OneFootball Network reach millions of active users across OneFootball\\u2019s app and web distribution channels, powering the ultimate destination for football fans.Join OneFootball and become a vital part of the Finance team, working across and partnering with all parts of the business (Business Development, Sales, Data Analysts & Engineers, Blockchain & NFT) to drive insights and enhance strategic decision making, while supporting regular day-to-day finance tasks and responsibilities.Ensure that critical business metrics are defined, targets are set, and contribute to co-steer OneFootball network, blockchain business, and daily fantasy sports platform by conducting simulations and business case evaluations.Develop, own, and improve end-to-end business processes, starting with business inception and ending with financial accounting entries.Develop, own, and improve end-to-end business processes, starting with business inception andending with financial accounting entries.OneFootball Network.With hundreds of partners providing content in seven languages, the OneFootball Network is the world\\u2019s leading digital football platform. Articles and videos published to the OneFootball Network reach millions of active users across OneFootball\\u2019s app and web distribution channels, powering the ultimate destination for football fans.Your roleConstruct financial business cases for the different verticals of the OneFootball Network (Web, App, Embed Player, Daily Fantasy Sports, and Blockchain & NFT platform)Applying general business and financial analysis skills to ensure the success of company strategies. Own, run and improve financial processes across all functions of the business.Support financial planning and reporting cycles leveraging your business understanding to drive valuable insights for senior managementDeveloping & implementing strategic projects driving scalability and profitability of the business.Continuously developing and improving tools and processes to support good decision-making and drive operational excellenceWork closely with the D&I team to inform key stakeholders (e.g. Newsroom, BrandMarketing, Performance Marketing, Sales, OTT, and Blockchain teams) by providing analysis and insights that enhance strategic decision makingProactively sharing your ideas based on your collaboration with D&I and Business Performance Finance teamTrack & control various payment processes & business performanceBe part of a highly motivated team that values team results over individual success and grows together!Your profileProven understanding of platform businesses and customer analyticsAbility to break down questions into analytical problemsSuccessfully manage multiple competing priorities simultaneously and work to tight deadlines. Strong business judgment and good instincts \\u2013 dealing with ambiguity and assumption based dataLeverage best practices & tooling when it gets to model data properly for analysisOutstanding English communication skills to bring across key results to your stakeholdersCuriosity is key. You describe yourself as a curious, open-minded person with the ability to deep dive into the most complex datasets and surface management-ready insights to drive the business.You question the status quo and existing practices to continuously improve the way we run our businessMotivation to drive cross-functional projects to successPrevious experience using analytics in the context of content or editorial analytics is a plusOneFootball strives for a healthy and safe workplace and is committed to building diverse teams.You can find our Data Privacy Policy for recruiting here.OneFootball strives for a healthy and safe workplace and is committed to building diverse teams.You can find our Data Privacy Policy for recruiting here.\\n      \\n\\n        Mehr anzeigen\\n\\n        \\n\\n\\n        Weniger anzeigen\\n\\n        \\n\\n\\n\", \"recruiter_name\": \"\", \"linkedin_recruiter_url\": \"\"}, {\"job_url\": \"https://de.linkedin.com/jobs/view/junior-logistics-analyst-m-f-x-barcelona-at-amazon-3022894777?refId=T74q54AY%2FiHZFPZpRXCc6w%3D%3D&trackingId=Kz71ssPIIe4wzXGpW6KVzg%3D%3D&position=6&pageNum=0&trk=public_jobs_jserp-result_search-card\", \"linkedin_job_url_cleaned\": \"https://de.linkedin.com/jobs/view/junior-logistics-analyst-m-f-x-barcelona-at-amazon-3022894777\", \"company_name\": \"Amazon\", \"company_url\": \"https://www.linkedin.com/company/amazon?trk=public_jobs_jserp-result_job-search-card-subtitle\", \"linkedin_company_url_cleaned\": \"https://www.linkedin.com/company/amazon\", \"job_title\": \"Junior Logistics Analyst (m/f/x) - Barcelona\", \"job_location\": \"Berlin, Berlin, Germany\", \"posted_date\": \"2022-05-07\", \"normalized_company_name\": \"Amazon\", \"full_text\": \"\\n\\n\\nJob SummaryDESCRIPTIONWe\\u2019re expanding our team within Amazon European Central Flow!*This job is located in Bareclona, Spain*What we doEuropean Central Flow team (ECFT) has four primary goals that all of our efforts ultimately contribute to:Support FC Leadership by providing relevant expertise to help them manage their area of the fulfillment business. ECFT Process Control Specialists partner with senior leaders in our fulfillment centers to deliver world class operational standards that create great outcomes for customers.Simplify, Standardize, and Improve Processes by using our expertise and strategic position within Amazon fulfillment to innovate on behalf of the customer every day. Through providing standard ways of working that span the entire European flow network ECFT is able to reduce defects in the process and improve the speed at which customers receive their order.Drive business goals such as overall volume plan, peerless customer experience, and reducing the time between a customer clicking \\u201cBuy\\u201d and receiving their order.Making lives easier for our operations partners by reducing necessary process steps in the pursuit of autonomous flow management within the fulfillment network.Why we do itAt Amazon we believe every day is day one, the European Central Flow team realizes that vision on a daily basis by delivering on the goals above and providing a central location for operational excellence within the Amazon customer fulfillment network. By doing so we continuously improve the buying experience from our customers and further our ambitious goal of being Earth\\u2019s most customer-centric company.Your roleAs a Junior Logistics Analyst (m/f/x) you will be responsible for the day-to-day management of flow standards in a partner Fulfillment Center (FC). You will work together with Operations leaders to plan, then execute a shift while escalating risks or standard work deviations to senior managers. The Junior Logistics Analyst (m/f/x) is expected act as a key advisor on all matters relating to customer fulfillment.As part of this role you will need to be flexible to work on shift patterns including night, and weekend working.Become a subject matter expert in flow management tools and processes, and how they interface with FC operations.Carry out deep dive analysis into improvement opportunities, promoting and leading comprehensive action plans across multiple stakeholders.Partnering with varied stakeholder groups across multiple business areas and levels of seniority. Communication of complex topics in an accessible way is a critical element of the role.Track, communicate, and influence key performance indices such as customer risk, compliance with flow planning, and performance to site level KPIsTake part in coaching initiatives to share your knowledge of the area with operators, or train new PCS as part of their on-boarding.Basic QualificationsYou are fluent in EnglishYou have a strong track record of communication skills across multiple stakeholder groups.You are a problem solver, comfortable working with data to make critical decisions.You have excellent judgement, and be able to make decisions under pressure. You will be able to influence others in pressured situations in pursuit of great outcomes.You are flexible in working patterns.You are willing to relocate for this positionPreferred QualificationsFluency in another European languageAble to show experience working in remote / centralized teamsData science skills including SQLAmazon is an equal opportunities employer. We believe passionately that employing a diverse workforce is central to our success. We make recruiting decisions based on your experience and skills. We value your passion to discover, invent, simplify and build. Protecting your privacy and the security of your data is a longstanding top priority for Amazon. Please consult our Privacy Notice (https://www.amazon.jobs/en/privacy_page) to know more about how we collect, use and transfer the personal data of our candidates.m/w/dCompany - Amazon Deutschland W36 TranspoJob ID: A1894003\\n      \\n\\n        Mehr anzeigen\\n\\n        \\n\\n\\n        Weniger anzeigen\\n\\n        \\n\\n\\n\", \"recruiter_name\": \"\", \"linkedin_recruiter_url\": \"\"}, {\"job_url\": \"https://de.linkedin.com/jobs/view/data-analyst-m-f-d-remote-option-ger-at-basf-3047332839?refId=T74q54AY%2FiHZFPZpRXCc6w%3D%3D&trackingId=Wn0rLAxyO2Wpk3gnPL77PA%3D%3D&position=7&pageNum=0&trk=public_jobs_jserp-result_search-card\", \"linkedin_job_url_cleaned\": \"https://de.linkedin.com/jobs/view/data-analyst-m-f-d-remote-option-ger-at-basf-3047332839\", \"company_name\": \"BASF\", \"company_url\": \"https://de.linkedin.com/company/basf?trk=public_jobs_jserp-result_job-search-card-subtitle\", \"linkedin_company_url_cleaned\": \"https://de.linkedin.com/company/basf\", \"job_title\": \"Data Analyst (m/f/d) - Remote Option GER\", \"job_location\": \"Berlin, Berlin, Germany\", \"posted_date\": \"2022-05-10\", \"normalized_company_name\": \"Basf\", \"full_text\": \"\\n\\n\\n        Along the order-to-cash process, we are passionate about keeping master data up to date along the supply chain, weighing potential credit risks, and thus executing payment flows on time. We are close to our customers and contribute to BASF's success every day with needs-based and innovative solutions.ResponsibilitiesWe need you to set up and maintain the reporting landscape of our Service Delivery Unit Accounts Receivable! While developing KPI and ad-hoc reports as well as creating data for dashboards, you translate business questions into meaningful analytics combining commercial and technical understanding.  You create insights on business data in the order-to-cash chain to enable our unit to detect and correct non-optimized process workflows.  Furthermore, you support advanced data research (definition of requirements, raw data sources, expected output formats and measurable goals) and work with our cross functional analytics team.  In addition, you proactively share information and best practices across the Service Delivery Units. Qualifications university degree in Business Administration with special focus on Controlling and/or Informatics  strong data visualization and data communication skills  fluent in English, additional German language skills are an advantage  enjoy cross funktional working and within an international team Benefits Location-independent work models with defined days of presence in Berlin and place of residence in Germany.  Onboarding to help you settle in quickly, ensuring you are part of the BASF team from day one.  Flexible working hours so that you can organize your working and private life according to your needs.  Development discussions and programs so that you can reach your full potential. About UsDo you have any questions about the application process or the position? Please reach out to- Jennifer Weiz, jennifer.weiz@basf.com, Tel.-+49 30 2005-56454First information about our application process can be found here- http://on.basf.com/applicationprocess.As an international service hub, the BASF Services Europe GmbH bundles a wide range of services for the BASF Group throughout Europe. In the heart of Berlin, we combine expertise in the areas of finance, HR, supply chain, procurement, product safety and IT. We focus on digital and customer-focused solutions, to create services for future. Learn more about us and our career opportunities at basf.com/servicehub-berlinAt BASF, the chemistry is right. Because we are counting on innovative solutions, on sustainable actions, and on connected thinking. And on you. Become a part of our formula for success and develop the future with us - in a global team that embraces diversity and equal opportunities irrespective of gender, age, origin, sexual orientation, disability or belief.Please note that we do not return paper applications including folders. Please submit copies only and no original documents.Please upload the documents, summarized in a PDF if possible.\\n      \\n\\n        Mehr anzeigen\\n\\n        \\n\\n\\n        Weniger anzeigen\\n\\n        \\n\\n\\n\", \"recruiter_name\": \"\", \"linkedin_recruiter_url\": \"\"}, {\"job_url\": \"https://de.linkedin.com/jobs/view/data-analyst-capacity-planning-m-f-d-at-flink-3061552867?refId=T74q54AY%2FiHZFPZpRXCc6w%3D%3D&trackingId=SSh6rm%2FuVFq6tvEVGH8GtQ%3D%3D&position=8&pageNum=0&trk=public_jobs_jserp-result_search-card\", \"linkedin_job_url_cleaned\": \"https://de.linkedin.com/jobs/view/data-analyst-capacity-planning-m-f-d-at-flink-3061552867\", \"company_name\": \"Flink\", \"company_url\": \"https://de.linkedin.com/company/goflink?trk=public_jobs_jserp-result_job-search-card-subtitle\", \"linkedin_company_url_cleaned\": \"https://de.linkedin.com/company/goflink\", \"job_title\": \"Data Analyst - Capacity Planning (m/f/d)\", \"job_location\": \"Berlin, Berlin, Germany\", \"posted_date\": \"2022-04-14\", \"normalized_company_name\": \"Goflink\", \"full_text\": \"\\n\\n\\nCompany DescriptionWe are Flink - your online supermarket revolutionising the way you do your grocery shopping. With a wide selection of over 2,400 high-quality products, we aim to deliver to your door in minutes. We put our customers first and ensure all products delivered are fresh and nutritious. Additionally, we can customise our national assortment to be able to offer you unique local products in every city. Our delivery hubs are located in densely populated inner-city locations and we strive to be sustainable by delivering on electric bikes and using packaging that can be recycled.Founded by experienced e-commerce professionals and seasoned entrepreneurs with exceptional track records, backed by some of the most renowned Global investors, we are growing rapidly and have a great hunger to continuously challenge ourselves. We pride ourselves in being an inclusive and equal opportunities employer with a diverse and multicultural team.If you want to be part of this exciting journey\\u2026 read on!Job DescriptionYou will be the main point of contact between Rider Operations and Data Science to ensure our forecasting & capacity planning leads to maximum productivity while maintaining good service levelsYou work closely with rider growth to make sure our hiring targets are in line with the required rider capacity to cope with order growth and demand patterns intra-week/dayYou will empower local operations teams with reports, dashboards, and ad-hoc analysis that supports their shift scheduling & assignmentsYou will conduct regular performance reviews with local & central operations teams, understand issues and concerns regarding suggested/actual scheduling, and align together on action plansQualificationsYou have 2+ years of work experience in a quantitative field - e.g. consulting, operations (capacity planning experience is a plus)Bachelor or Masters degree in Mathematics, Statistics, IT, Finance or similar area1.5+ years of experience in an analytical fieldVery good working knowledge of SQLPrevious experience working with R, or Python and common data librariesExperience with Python, unstructured data, machine learning techniques will be considered as an advantageGood knowledge of MS Office, especially ExcelYou excel at building and managing relationships with cross-functional partners and stakeholdersYou are proficient in English. German is a big plusAdditional InformationA cool discount off your personal Flink orders, be the first to test out new products! Unlimited access to an e-learning and development platform, MyAcademy, including online German courses Attractive company pension options Online discounts with Corporate Benefits and Future BensA unique opportunity to be an early bird and have an impact on our strategy & growth A steep learning curve, the possibility to work in an energised and dynamic team within a fast-paced environmentFor Berlin: A newly renovated and spacious, dog-friendly HQ in the heart of Mitte - lots of delicious lunch spots available within short walking distanceIt is our commitment that every applicant will be evaluated according to their skills regardless of age, gender identity, ethnicity, sexual orientation, disability status, or religion.\\n\\n\\n        Mehr anzeigen\\n\\n        \\n\\n\\n        Weniger anzeigen\\n\\n        \\n\\n\\n\", \"recruiter_name\": \"\", \"linkedin_recruiter_url\": \"\"}, {\"job_url\": \"https://de.linkedin.com/jobs/view/business-analyst-m-f-d-at-bayer-3076570050?refId=T74q54AY%2FiHZFPZpRXCc6w%3D%3D&trackingId=2vVOHClnbbmuUAqWHe8KbA%3D%3D&position=10&pageNum=0&trk=public_jobs_jserp-result_search-card\", \"linkedin_job_url_cleaned\": \"https://de.linkedin.com/jobs/view/business-analyst-m-f-d-at-bayer-3076570050\", \"company_name\": \"Bayer\", \"company_url\": \"https://de.linkedin.com/company/bayer?trk=public_jobs_jserp-result_job-search-card-subtitle\", \"linkedin_company_url_cleaned\": \"https://de.linkedin.com/company/bayer\", \"job_title\": \"Business Analyst (m/f/d)\", \"job_location\": \"Berlin, Berlin, Germany\", \"posted_date\": \"2022-04-20\", \"normalized_company_name\": \"Bayer\", \"full_text\": \"\\n\\n\\nAt Bayer we\\u2019re visionaries, driven to solve the world\\u2019s toughest challenges and striving for a world where ,Health for all, Hunger for none\\u2019 is no longer a dream, but a real possibility. We\\u2019re doing it with energy, curiosity and sheer dedication, always learning from unique perspectives of those around us, expanding our thinking, growing our capabilities and redefining \\u2018impossible\\u2019. There are so many reasons to join us. If you\\u2019re hungry to build a varied and meaningful career in a community of brilliant and diverse minds to make a real difference, there\\u2019s only one choice.  Business Analyst (m/f/d) In Bayer\\u2019s global Product Platform Research we thrive to continuously improve our existing product portfolio and create new products that support our scientists in Pharma on their search for new (digital) therapies. We are seeking an excellent Business Analyst (m/f/d) driven by our vision \\u201cHealth for all, hunger for none\\u201d. As Business Analyst (m/f/d) you will be working as part of our DevOps teams sized 4-6 people where you can follow (y)our purpose and grow while working on tough challenges in a global pharma research setting. You will help our developers understand and solve the scientists needs by acting as an interface between science and IT. If you are passionate about creating cutting edge software together with scientists to help cure life-threatening diseases, we would love to hear from you.Your Tasks And Responsibilities You design, develop, and continuously deliver cutting edge software products in a fast-moving environment of the Pharma business.  You take decisions to advance product development or team culture in a timely manner  Identifying the most important problems to solve, minimize scope and assess the value of solutions is part of your daily business  You shape work for software engineers by translating business problems into hypotheses about true needs  Moreover, you communicate insights proactively to product team members and stakeholders  Applying your expertise in natural sciences in mixed teams consisting of IT and R&D experts (biologists/chemists/pharmacologists)  You develop and execute on visions for products with tangible business impact  Furthermore, you identify risks and gaps during product development cycles and help design solutions to meet team and product goals  Promotion of principles behind agile product development practices Who You Are Master\\u2019s degree in natural sciences or an equivalent field of study  You have already gained several years of professional experience as a Business Analyst (m/f/d) in an agile team  You have a profound knowledge in principles behind agile and lean as well as hands-on experience with discovery and design of digital products  Sound knowledge of technology and approaches commonly used in DevOps teams  Leadership skills and displayed entrepreneurial behavior in your daily work distinguish you  You are resilient, able to deal with ambiguous situations and you approach challenges from multiple perspectives  Very good communication skills in English and German, both written and spoken YOUR APPLICATION This is your opportunity to tackle the world\\u2019s biggest challenges with us: Maintaining our health, feeding growing populations and slowing the rate of climate change. You have a voice, ideas and perspectives and we want to hear them. Because our success begins with you. Be part of something big. Be Bayer.Bayer welcomes applications from all individuals, regardless of race, national origin, gender, age, physical characteristics, social origin, disability, union membership, religion, family status, pregnancy, sexual orientation, gender identity, gender expression or any unlawful criterion under applicable law. We are committed to treating all applicants fairly and avoiding discrimination.Location:  Leverkusen, Berlin or Wuppertal-AprathDivision:  Enabling FunctionsReference Code: 588061\\n      \\n\\n        Mehr anzeigen\\n\\n        \\n\\n\\n        Weniger anzeigen\\n\\n        \\n\\n\\n\", \"recruiter_name\": \"\", \"linkedin_recruiter_url\": \"\"}, {\"job_url\": \"https://de.linkedin.com/jobs/view/business-data-analyst-at-at-t-3001459080?refId=T74q54AY%2FiHZFPZpRXCc6w%3D%3D&trackingId=y3%2B9jmN62bgOngBEBGxl6A%3D%3D&position=11&pageNum=0&trk=public_jobs_jserp-result_search-card\", \"linkedin_job_url_cleaned\": \"https://de.linkedin.com/jobs/view/business-data-analyst-at-at-t-3001459080\", \"company_name\": \"AT&T\", \"company_url\": \"https://www.linkedin.com/company/att?trk=public_jobs_jserp-result_job-search-card-subtitle\", \"linkedin_company_url_cleaned\": \"https://www.linkedin.com/company/att\", \"job_title\": \"Business Data Analyst\", \"job_location\": \"Berlin, Berlin, Germany\", \"posted_date\": \"2022-03-31\", \"normalized_company_name\": \"Att\", \"full_text\": \"\", \"recruiter_name\": \"\", \"linkedin_recruiter_url\": \"\"}, {\"job_url\": \"https://de.linkedin.com/jobs/view/data-analyst-m-f-d-at-y42-3075981295?refId=T74q54AY%2FiHZFPZpRXCc6w%3D%3D&trackingId=ptK73bjdtkiBgmDNi%2Baffg%3D%3D&position=12&pageNum=0&trk=public_jobs_jserp-result_search-card\", \"linkedin_job_url_cleaned\": \"https://de.linkedin.com/jobs/view/data-analyst-m-f-d-at-y42-3075981295\", \"company_name\": \"Y42\", \"company_url\": \"https://de.linkedin.com/company/y42-business-intelligence?trk=public_jobs_jserp-result_job-search-card-subtitle\", \"linkedin_company_url_cleaned\": \"https://de.linkedin.com/company/y42-business-intelligence\", \"job_title\": \"Data Analyst (m/f/d)\", \"job_location\": \"Berlin, Berlin, Germany\", \"posted_date\": \"2022-05-13\", \"normalized_company_name\": \"Y42 business intelligence\", \"full_text\": \"\\n\\n\\n        Y42 is a fast-growing company, founded in 2020 and backed by some of the world's most renowned investors. They all deeply believe in our vision of frictionless business intelligence.We pride ourselves on having assembled a team of 100+ diverse, talented and dedicated experts from all over the world. We are ambitious and we hold ourselves to a high standard. Y42 offers a very exciting and fast paced environment. We like a challenge and learn by doing. Our ambitious mission: Making it easy for everyone to use their data productively.If you are looking for a place where you can have an impact, work with talented people and make a true difference, you will be really happy here.About The RoleWe are not currently hiring for this position actively, but will do so toward the end of this year. Right now, we are hiring our Data & BI Lead, so we would like that person to join first and help us build their team. Nonetheless, we know we will search for talented data analysts and this is a chance for you to make it onto our shortlist. When we hire for this position, we will reach out to you if your profile is a match!As our Data Analyst, these are the things you will do:Develop analytics dashboards that support different Y42 teams so they can make strategic decisions based on actionable dataHelp the Product, Engineering, Growth, and Operations Teams make data-driven decisionsTrain Y42 teams in analytics to ensure they are able to use the data and tools to answer questions and build analytics reports for their team independentlyContribute to the creation of the data modeling layer, which exposes clean, transformed data to the whole company for analyticsBuild communities of analytics ambassadors and data analystsAbout YouWhat we're looking for in our Data Analyst:Experience in a job similar to your current roleFamiliarity with BI tools such as Metabase, Looker, or Tableau to analyze and visualize dataExperience writing analytical SQL: you can write complex queries without assistance and understand the difference between effective and performant SQLUnderstanding of how to explain complex datasets or queries to non-technical peopleSomeone who is driven by curiosity with an investigative mindA desire to work in a fast-growing startup and thrive on both autonomy and collaborationWhat will grab our attention even more:Experience of working with a data transformation tool, such as dbtKnowledge of the command line and the GitFamiliarity with data warehouses such as Redshift, BigQuery, or SnowflakeSome experience of working with APIs and a programming language such as PythonEveryone carries a unique set of valuable skills and experiences. If you think you could have an impact even though you don't match all the items in this list, we strongly encourage you to apply.Reasons to joinJoining Y42 means joining our mission and contributing to our growth. That's why we strongly believe in co-ownership. In return for your dedication and hard work, we offer a competitive salary along with a generous VSOP package to participate in the company's success.You can also count on:A learning and development budgetFree mentoring and mental health coaching sessionsPublic transport pass or Swapfiets e-bike subscriptionState-of-the-art work equipment, incl. MacBook Pro, Bose headphones and monitorAn office with amazing views in the heart of Berlin (Rocket Tower, Charlottenstra\\u00dfe 4)The flexibility to work from homeA no-elbow environment where collaboration and inclusivity are fosteredA team of talented and inspiring colleagues who are experts in their fieldThe opportunity to bring a SaaS startup to unicorn status and way beyondWe won't try to convince you with our weekly team lunches, free fruit, delicious snacks, and fridge full of beverages. We're not even going to mention our ping pong table.Y42 is a proud equal opportunity employer. We strive to create an inclusive environment where everyone feels safe and comfortable being their authentic selves, no matter how they look, dress, speak, or identify, or whom they love, believe in, or admire.Practical infoCurious about our office? We get it! We're on the 12th and 13th floor of the Rocket Tower in the center of Berlin, Charlottenstra\\u00dfe 4. You can enjoy the views on days you're not working remotely.The typical hiring process at Y42CV application: Share your CV with us and any supporting documents if you like. We will get back to you as quickly as possible.Get to know each other: In our first call, we want to exchange expectations and clear up your most urging questions. Furthermore, we want to excite you about our mission and product.Main Interview: In this interview, our hiring managers want to learn more about your skills and thought processes. We want to understand your abilities and align on a technical level.Culture Interview: In the last hiring stage, we want you to meet at least one member of the management team. We deeply value team chemistry and want to give you the opportunity to get to know each other before any signings.Et voil\\u00e0: Offer! We aim to finish the entire process within 28 days.\\n\\n\\n        Mehr anzeigen\\n\\n        \\n\\n\\n        Weniger anzeigen\\n\\n        \\n\\n\\n\", \"recruiter_name\": \"\", \"linkedin_recruiter_url\": \"\"}, {\"job_url\": \"https://de.linkedin.com/jobs/view/m-a-analyst-f-m-d-remote-at-driveimpact-3062521073?refId=T74q54AY%2FiHZFPZpRXCc6w%3D%3D&trackingId=aVhTqlmAdtbp3xoNOsUcgg%3D%3D&position=13&pageNum=0&trk=public_jobs_jserp-result_search-card\", \"linkedin_job_url_cleaned\": \"https://de.linkedin.com/jobs/view/m-a-analyst-f-m-d-remote-at-driveimpact-3062521073\", \"company_name\": \"DIMPACT\", \"company_url\": \"https://de.linkedin.com/company/dimpact-io?trk=public_jobs_jserp-result_job-search-card-subtitle\", \"linkedin_company_url_cleaned\": \"https://de.linkedin.com/company/dimpact-io\", \"job_title\": \"M&A Analyst (f/m/d) - Remote\", \"job_location\": \"Berlin, Berlin, Germany\", \"posted_date\": \"2022-05-05\", \"normalized_company_name\": \"Dimpact io\", \"full_text\": \"\\n\\n\\n\\ud83d\\ude80The Mission:Our client, a Stealth Start-Up, is a pre-Series A startup building a global powerhouse of digital assets with revenue-driving content. They aim to impact >1 billion consumer purchase decisions per year. To achieve this goal, they acquire, optimize, and operate digital assets in the US and DACH region.They strongly believe that there is an immense untapped potential of content assets, which are the primary drivers of eCommerce revenues. They will tap into this potential using a proprietary tech- and data-driven approach from asset acquisition to optimization in a global portfolio.For this, they\\u2019ve already partnered with leading advertisers and gained the trust of investors with experience in building unicorn ventures.Who They AreThe team consists of best-in-class marketing, e-Commerce, and M&A experts with diverse and global experience. The founders have a proven track record with their previously founded Publishing-Tech company, which collaborates with renowned media houses such as RTL (Germany), LeParisien (France), or Gazzetta (Italy).The founding team members have unparalleled success stories including:Exits to Bosch and SAPChairman of Unicorn businessesBuilding a leading global Pub-Tech companyTop Consulting and Investment Banking experience across the US and GermanyTasks\\ud83d\\ude4c\\ud83c\\udffcYour ResponsibilitiesHelping all activities of the fundraising process from outreach to closingConducting financial analyses and valuations of potential acquisition targetsManage the drafting, review, and negotiation of M&A contracts and agreementsWork directly with the Head of M&A and support all day-to-day activitiesSupporting the growth of the M&A team and the optimization of all processesOwning the creation of presentations for C-Levels, investors, and board membersRequirements\\u2705Your QualificationsBachelors or Masters degree with high academic achievementsYou have 1+ years working experience in Start-Ups, M&A, Venture Capital, Private Equity, Corporate Finance, or the Consulting industryYou have strong communication skills and emotional intelligenceYou are confident, have a hands-on mentality and like working independently in a fast-paced environmentYou have excellent Excel and PowerPoint skillsYou have excellent English skills; other languages a plusBenefits\\ud83d\\udcafWhat We OfferSupport shaping M&A and investment processes from the ground-upUp to $5,000 for personal growth and coursesUnique operating experience at the interception of high-growth startup, M&A and private equity investmentsRemote and flexible environment with flat hierarchies across the CompanyWork and grow with a top team with diverse backgrounds and expertiseTeam events in different top locationsOpportunity to help build one of the fastest growing early-stage startupsDisclaimerWe value a diverse and inclusive work environment. We believe this is the key to satisfied employees. We strive to create an open, friendly, safe and welcoming environment for every employee. We welcome applications from applicants of diverse gender, gender identity, gender expression, sexual orientation, disability, physical appearance, body size, race, ethnicity, age, and religious beliefs.We do not accept applications from agencies. Please do not forward applications to our position's alias, staff, or any other agency within the organization. We are not responsible for any fees associated with unsolicited resumes.\\n\\n\\n        Mehr anzeigen\\n\\n        \\n\\n\\n        Weniger anzeigen\\n\\n        \\n\\n\\n\", \"recruiter_name\": \"\", \"linkedin_recruiter_url\": \"\"}, {\"job_url\": \"https://de.linkedin.com/jobs/view/sustainability-climate-analyst-%40-vaayu-at-vaayu-3084862240?refId=T74q54AY%2FiHZFPZpRXCc6w%3D%3D&trackingId=Oy%2B2ZgVEKdoeShiXKdJ17A%3D%3D&position=14&pageNum=0&trk=public_jobs_jserp-result_search-card\", \"linkedin_job_url_cleaned\": \"https://de.linkedin.com/jobs/view/sustainability-climate-analyst-%40-vaayu-at-vaayu-3084862240\", \"company_name\": \"Vaayu\", \"company_url\": \"https://de.linkedin.com/company/vaayu?trk=public_jobs_jserp-result_job-search-card-subtitle\", \"linkedin_company_url_cleaned\": \"https://de.linkedin.com/company/vaayu\", \"job_title\": \"Sustainability/Climate Analyst @ Vaayu\", \"job_location\": \"Berlin, Berlin, Germany\", \"posted_date\": \"2022-05-19\", \"normalized_company_name\": \"Vaayu\", \"full_text\": \"\\n\\n\\n        At Vaayu, we are on a mission to decelerate climate change. With just 9 years to significantly lower global emissions, we have developed the world\\u2019s first automated carbon tracking and calculation tool to help businesses reduce in real-time, and at scale.We know that retail has a big impact, so we are focusing our attention here. Using our proprietary AI and machine learning technologies, we provide retailers with meaningful reduction scenarios to drive down emissions.About UsWe believe in the power of technology as a force for good, and know we need to bring the best people together to work on such a significant problem. We are looking for game-changers from across Europe or equivalent time zones, who share our vision to create a better future for people and the planet.If you are an innovator, want to work at a purpose-driven startup, be part of a team defining state-of-the-art technology that will drive down carbon emissions at scale, and are living in a European time zone, we\\u2019d love to hear from you.Our ValuesEnvironmental. The Earth is our protagonist. Protecting it is at the center of everything we do.Collaborative. Climate change affects us all. By working collaboratively we know we can make a difference within retail, and beyond.Honest. Our voice is informative and authentic. We want to share what we are working on, be open about the challenges, and build an ecosystem that creates change.TasksAbout The RoleWe are looking for an experienced analyst to join a fast-paced and purpose-driven business development team. You will support the team with developing client proposals, preparing sales pitches and other business activities to grow Vaayu\\u2019s retail customer base. You will also have the opportunity to help with research and contribute to thought leadership activities.Your main responsibilities include:Contributing to client proposals, marketing materials and other internal and external documents Collaborating with colleagues to ensure that we understand and address the climate needs of customersContribute to thought leadership activities in partnership with commercial teams Research on industry developments and distill information into an easy to understand formatRequirementsGreat communication skills, especially the ability to distill complicated conceptsExcellent analytical, problem-solving and report writing skillsExperience in strategy and/or management consultingCollaboration skills and teamwork-orientation, as you will work with multiple teamsFluency in EnglishA degree in business, economics, finance, environmental science or other relevant disciplines; or equivalent work experience in sustainability-related rolesA passion for solving climate changeAdditional useful experience:Working with retail and e-commerce companiesExperience in climate related projectsBenefitsVaayu provides the opportunity to:Work at a mission-driven start-up with sustainability expertsReceive equity in a fast-growing business with an exciting journey aheadBe flexible, working when and from wherever you feel most inspiredCollaborate with a diverse, open minded, and international teamGrow and develop within an expanding team of entrepreneurial expertsJoin our quarterly offsite where we come together in a European destinationEnjoy 26 days paid leave with an additional day for every year of employment (up to 30 days)Opt in to pension and health policies available within your region of workVaayu is an equal opportunity employer. We do not believe in discrimination of any kind and are proud to have an international team from over 17 different countries. We nurture an inclusive and collaborative environment for all and are committed to reflecting a diverse range of backgrounds, experiences and thinking.\\n      \\n\\n        Mehr anzeigen\\n\\n        \\n\\n\\n        Weniger anzeigen\\n\\n        \\n\\n\\n\", \"recruiter_name\": \"\", \"linkedin_recruiter_url\": \"\"}, {\"job_url\": \"https://de.linkedin.com/jobs/view/investment-analyst-at-arrow-capital-partners-3070094735?refId=T74q54AY%2FiHZFPZpRXCc6w%3D%3D&trackingId=ixmfwgKvQRPf%2BrndMG0%2FSw%3D%3D&position=15&pageNum=0&trk=public_jobs_jserp-result_search-card\", \"linkedin_job_url_cleaned\": \"https://de.linkedin.com/jobs/view/investment-analyst-at-arrow-capital-partners-3070094735\", \"company_name\": \"Arrow Capital Partners\", \"company_url\": \"https://au.linkedin.com/company/arrow-capital-partners?trk=public_jobs_jserp-result_job-search-card-subtitle\", \"linkedin_company_url_cleaned\": \"https://au.linkedin.com/company/arrow-capital-partners\", \"job_title\": \"Investment Analyst\", \"job_location\": \"Berlin, Germany\", \"posted_date\": \"2022-05-10\", \"normalized_company_name\": \"Arrow capital partners\", \"full_text\": \"\\n\\n\\nWe are looking for an Investment Analyst to join our growing team in the Berlin office.Candidates should be passionate about real estate investments and keen on joining a dynamic and truly international Real Estate Private Equity company which is rapidly growing in Germany!Basic qualifications should include:Strong real estate/financial analytical capabilities, modelling and verbal and written communication skills.At least 1-3 years of corporate finance or real estate experience requiredA proven ability to think commercially with attention to detailStrong team orientation and a demonstrated ability to work effectively with team members in multiple groups and regionsExcellent in English and/or GermanCandidate must have completed an undergraduate degreeFor further questions please do not hesitate to get in touch diirectly with me or by email under:hr@arrowcapital.deWe look forward to hearing from you!\\n\\n\\n        Mehr anzeigen\\n\\n        \\n\\n\\n        Weniger anzeigen\\n\\n        \\n\\n\\n\", \"recruiter_name\": \"Nachricht an Armen Gevorkian\", \"linkedin_recruiter_url\": \"https://nl.linkedin.com/in/armen-gevorkian-70119234\"}, {\"job_url\": \"https://de.linkedin.com/jobs/view/business-analyst-voice-of-customer-m-f-d-at-flixbus-3040299469?refId=T74q54AY%2FiHZFPZpRXCc6w%3D%3D&trackingId=LiMa2%2F5lJ9gFb8xo0j3NHw%3D%3D&position=16&pageNum=0&trk=public_jobs_jserp-result_search-card\", \"linkedin_job_url_cleaned\": \"https://de.linkedin.com/jobs/view/business-analyst-voice-of-customer-m-f-d-at-flixbus-3040299469\", \"company_name\": \"Flix\", \"company_url\": \"https://de.linkedin.com/company/flixbus?trk=public_jobs_jserp-result_job-search-card-subtitle\", \"linkedin_company_url_cleaned\": \"https://de.linkedin.com/company/flixbus\", \"job_title\": \"Business Analyst - Voice of Customer (m/f/d)\", \"job_location\": \"Berlin, Berlin, Germany\", \"posted_date\": \"2022-05-11\", \"normalized_company_name\": \"Flixbus\", \"full_text\": \"\\n\\n\\n        We're looking for a motivated and driven Voice of Customer Analyst (m/f/d) who will help us shape our team, drive the company to the next level, and have the most direct influence on our success. Your Tasks \\u2013 Paint the world green You support Flix global expansion by analyzing how Customer Service processes and tools impact on customer retention and happiness;You evaluate Customer Service metrics to identify drivers that impacts on customer satisfaction;You support our operations by providing indications of which process is affecting customer retention and satisfaction;You are the liaison between Customer Service, Marketing, Business Development and Business Intelligence teams assuring a smooth communication and share of information;You support the implementation of the CS strategy analyzing the potential outcome of the department initiatives and projects in terms of customer lifetime value;You investigate our customer base and define customer segments;You develop your own predictive models which will be used by our Leads to calculate the business impact of their initiatives;You collect data from multiple sources and create reports that help you and management analyze performance and understand our customers' behavior; Your Profile \\u2013 Ready to hop on board You have an analytic and data driven mindset;You easily juggle between SQL, Python, Machine Learning and data visualization tools (PowerBI, Tableau);You have customer happiness at heart; Good organizational, and exceptional communication skills;You understand and can interpret customer service KPI's and is passionate about reporting and analysis;You have great presentation skills;You have a proven ability to build relationships quickly which focus on both internal and external stakeholders;You know how to navigate and make decisions even through uncertainty and constant change;You are able to work under time pressure as part of a team, but also handle well individual responsibilities and expectations;Good to have: passion for IT and the digital world. Our Perks \\u2013 More than just a job You have an impact. With innovation and smart technology, we are creating the easiest way to travel. We want your ideas and give you autonomy to make them reality. Flix is flexible. Organize your own schedule, and balance work between the office and home as it\\u2019s best for you. We give you trust-based hours and a flexible smart working policy. Travelling is our passion. Discover the world with your free Flix rides and bring along your friends and family for half price. Teamwork makes the dream work. Our FlixTeam has people from over 80 different nations. We work in a multicultural environment where we can challenge and support each other. We're not only green in color. We\\u2019re building for the long term, and that means protecting our planet. We constantly test new green technologies and compensate for the CO2 after all our business travel since 2018. Want to rewrite the history of mobility with us? Then join our ride and apply now. We're excited to hear from you!About FlixMobilityWe are a global mobility provider with headquarters in Europe and the United States. Since 2013, we have changed the way millions of people have traveled, offering new alternatives for convenient, affordable and eco-friendly travel. Thanks to a unique business model and innovative technology, we have quickly established one of the largest long-distance mobility networks in the world \\u2013 and our journey has just begun.FlixMobility is proud to be an Equal Opportunity Employer. We celebrate diversity and do not discriminate on the basis of race, color, religion, gender (including pregnancy and gender identity), national, social or ethnic origin, political affiliation, sexual orientation, marital status, disability, age, veteran status, or other legally protected characteristics. All employment decisions are based on business needs, job requirements, competence and merit.\\n      \\n\\n        Mehr anzeigen\\n\\n        \\n\\n\\n        Weniger anzeigen\\n\\n        \\n\\n\\n\", \"recruiter_name\": \"\", \"linkedin_recruiter_url\": \"\"}, {\"job_url\": \"https://de.linkedin.com/jobs/view/junior-trust-safety-analyst-at-n26-group-3063411659?refId=T74q54AY%2FiHZFPZpRXCc6w%3D%3D&trackingId=RpoFqJyP7lwpuF99VmDPdg%3D%3D&position=17&pageNum=0&trk=public_jobs_jserp-result_search-card\", \"linkedin_job_url_cleaned\": \"https://de.linkedin.com/jobs/view/junior-trust-safety-analyst-at-n26-group-3063411659\", \"company_name\": \"N26\", \"company_url\": \"https://de.linkedin.com/company/n26?trk=public_jobs_jserp-result_job-search-card-subtitle\", \"linkedin_company_url_cleaned\": \"https://de.linkedin.com/company/n26\", \"job_title\": \"Junior Trust & Safety Analyst\", \"job_location\": \"Berlin, Berlin, Germany\", \"posted_date\": \"2022-05-06\", \"normalized_company_name\": \"N26\", \"full_text\": \"\\n\\n\\nAbout The OpportunityThe internet is a scary place! The Trust & Safety team at N26 exists to protect our users from the numerous threats faced by online banks. You\\u2019ll be directly involved in protecting our customers and our brand while sowing trust and making the internet a safer place for all.In This Role, You WillWork with a diverse group of peers to protect N26 users from fraud schemes Develop an understanding of the risks faced by online financial institutions and learn to minimize their impact Explore creative ways to detect and block fraudulent activity from impacting our usersSupport Product in ensuring our app and offerings are safe, secure and inspire customer trust throughout the user journeyTeach critical steps to stay safe online inside and out of the org, including phishing and fraud detection Liaison with other teams and departments to propose improvements and changes to our product offerings and processesWhat You Need To Be SuccessfulPassion - a strong desire to combat fraud and misuseEmpathy - an understanding of customer-facing interactions and the ability to turn around a negative interactionAdaptability - strong performance under pressure and in an environment that is continuously evolvingCommunication - an ability to explain security-related decisions in such a way that our team is considered a facilitator, and not a blockerGrowth mindset - a deep desire to learn, grow, and challenge the status quoOperational excellence - an ability to acknowledge when a task is critical to success metrics and to ensure it's completed promptlyHands-on experience - a deep understanding of N26 user-flows and processes, as well as our account lifecyclePattern recognition - a strong ability to quickly and easily identify problem areasAnalytical skills - an ability to identify possible attack vectors and to develop solutionsNice-to-haveAn understanding of malicious content found online and the ways in which this impacts consumers, companies, and the general publicPrevious experience in data analytics and an understanding of the importance of using data to back-up and support critical business decisions Experience collaborating with both technical and non-technical stakeholdersTraitsActively help yourself (and others) be successful.Continuously learn and challenge the status quo.Think globally, act locally.Strong bias for action.Give and receive open, direct and timely feedback. What\\u2019s In It For YouAccelerate your career growth by joining one of Europe\\u2019s most talked about disruptors \\ud83d\\ude80.Employee benefits that range from a competitive personal development budget, work from home budget, discounts to fitness & wellness memberships, language apps and public transportation. As an N26 employee you will have access to a Premium subscription on your personal N26 bank account. As well as subscriptions for friends and family members. Vacation days vary depending on your location of work. Additional day of annual leave for each year of service. A high degree of autonomy and access to cutting edge technologies - all while working with a friendly team of peers of diverse nationalities, life experiences and family statuses. A relocation package with visa support for those who need it.Who We AreN26 has reimagined banking for today\\u2019s digital world. Technology and design empower everything we do and it\\u2019s how we are building the global banking platform the world loves to use.We've eliminated physical branches, paperwork, and hidden fees for an elegant digital experience and supreme savings. Giving people the power to live and bank their way is what gets us out of bed in the morning and inspires the work that we do.Founded in 2013, N26 now has 7 million customers in 24 markets. We employ more than 1,500 employees across 3 office locations in Berlin, Vienna and Barcelona. Besides the main offices, N26 also has local offices in Paris, Madrid, Milan, and S\\u00e3o Paolo.Sound good? Apply now for this position.N26 is an equal opportunity employer and values diversity. We do not discriminate on the basis of race, religion, color, national origin, gender, sexual orientation, age, marital status or disability status.\\n\\n\\n        Mehr anzeigen\\n\\n        \\n\\n\\n        Weniger anzeigen\\n\\n        \\n\\n\\n\", \"recruiter_name\": \"\", \"linkedin_recruiter_url\": \"\"}, {\"job_url\": \"https://de.linkedin.com/jobs/view/junior-m-a-analyst-m-f-d-at-project-a-ventures-3080123351?refId=T74q54AY%2FiHZFPZpRXCc6w%3D%3D&trackingId=TqzGYBkAqVsqzk7fAGNmAw%3D%3D&position=18&pageNum=0&trk=public_jobs_jserp-result_search-card\", \"linkedin_job_url_cleaned\": \"https://de.linkedin.com/jobs/view/junior-m-a-analyst-m-f-d-at-project-a-ventures-3080123351\", \"company_name\": \"Project A Ventures\", \"company_url\": \"https://de.linkedin.com/company/project-a-ventures?trk=public_jobs_jserp-result_job-search-card-subtitle\", \"linkedin_company_url_cleaned\": \"https://de.linkedin.com/company/project-a-ventures\", \"job_title\": \"Junior M&A Analyst (m/f/d)\", \"job_location\": \"Berlin, Berlin, Germany\", \"posted_date\": \"2022-05-17\", \"normalized_company_name\": \"Project a ventures\", \"full_text\": \"\\n\\n\\nWe are looking for:A new team member for one of our portfolio companies who is revolutionizing the healthcare industry. Since the very beginning, the company has been committed to providing customers with a platform that enables them to find the best personal medical care all over the world.TasksBeing responsible for the acquisition of new clients in the area of company sales (M&A)Accompanying the client in the decision-making process to tackle the company succession or the company saleSupporting of the client up to the mandate for the process of company succession or company sale together with the team of transaction experts, thereby making sure that the needs of the customer come firstAdvising the customer, on the topics of company valuation, potential buyers and current market movements, as well as support in the creation of pitch documents and the negotiation of the mandate contractRequirements+2 years of professional experience (e.g. in a consulting environment) and ideally previous experience in M&A, corporate finance or auditAt least one academic degree (Bachelor or comparable qualification)Ability to confidently lead conversations and negotiations and to respond to different characters in order to develop a close bond with the clientAnalytical, reliable and organised work ethicNative level proficiency in German (written and spoken)Please note that we are looking for support in the Berlin office of our portfolio company. Eligibility to work within the EU is required as well.BenefitsMake a true impact in the FinTech industryWell equipped and modern office in the heart of BerlinTransparent culture with flat hierarchies where every person is highly valuedThrive from an inspiring, creative, and diverse environment with amazing and smart colleagues from all over the worldHaving fun together as a company with regular team eventsGetting challenged and developing your professional skills by taking over responsibilities, and a guaranteed steep learning curve from day oneChoose from a variety of drinks and healthy snacks available to keep you energized throughout the dayBeing part of an instant network within the Project A family with access to regular events, knowledge sharing, and meetupsDo you want to be part of our success story?We are looking forward to your online application.\\n\\n\\n        Mehr anzeigen\\n\\n        \\n\\n\\n        Weniger anzeigen\\n\\n        \\n\\n\\n\", \"recruiter_name\": \"\", \"linkedin_recruiter_url\": \"\"}, {\"job_url\": \"https://de.linkedin.com/jobs/view/junior-content-analyst-all-genders-zalando-fashion-studios-at-zalando-2972759429?refId=T74q54AY%2FiHZFPZpRXCc6w%3D%3D&trackingId=CaOId2sCbFhRUiSG3oBwyw%3D%3D&position=19&pageNum=0&trk=public_jobs_jserp-result_search-card\", \"linkedin_job_url_cleaned\": \"https://de.linkedin.com/jobs/view/junior-content-analyst-all-genders-zalando-fashion-studios-at-zalando-2972759429\", \"company_name\": \"Zalando\", \"company_url\": \"https://de.linkedin.com/company/zalando?trk=public_jobs_jserp-result_job-search-card-subtitle\", \"linkedin_company_url_cleaned\": \"https://de.linkedin.com/company/zalando\", \"job_title\": \"Junior Content Analyst (all genders) - Zalando Fashion Studios\", \"job_location\": \"Berlin, Berlin, Germany\", \"posted_date\": \"2022-04-27\", \"normalized_company_name\": \"Zalando\", \"full_text\": \"\\n\\n\\nTHE ROLE & THE TEAMAt zStudios Content Analytics, you will be the advocate of data who enables stakeholders to drive performance and create a direct impact from content production to our customer experience. You will be the key contributor who provides data-driven insights and reportings to support production and creative teams across the full process which is where the magic happens we provide insights to produce inspiring content to our customers.INCLUSIVE BY DESIGNAt Zalando, our vision is to be the starting point for fashion - one that is inclusive by design. We only assess candidates based on qualifications, merit, and business needs. We welcome applications from people of all gender identities, sexual orientations, personal expressions, racial identities, ethnicities, religious beliefs, and disability statuses. We only want to know why you\\u2019re great for this role, so please avoid including your picture, age, and marital status in your CV as well.We want to provide you with a great candidate experience. Please feel free to inform us of any accommodations you may need, so we can best support and assist you throughout the hiring process.do.BETTER - our diversity & inclusion strategy https //corporate.zalando.com/en/diversity-inclusionOur employee resource groups https //corporate.zalando.com/en/diversity-inclusion/our-employee-resource-groupsWHY YOU SHOULD BE INTERESTEDYou will be part of the zStudio Content Analytics, enabling stakeholders across the department to turn data into a core driver for business. You will analyse content performance based on our data solutions.Collaborate with the central analytics team and content strategy teams to create and implement new self-service reporting initiatives.Provide daily consultancy in data, create and maintain dashboards on Google Data studio.Conduct deep-dive analyses and build visualisations to help us develop the business model that helps us to optimise our process.Support content experimentation from analytical side (e.g. test hypothesis formulation, sample size estimation, A/B test results analysis)Help us manage our data as an asset by contributing to our business glossary and documentation, as well as ensure our assets are in compliance.Develop data solutions for content production teams on their data and reporting needs. For example, operations dashboards, performance analysis, and ad-hoc data analysis.Support business stakeholders in a fast-paced innovative environment with accurate and insightful data deep dives. WE'D LOVE TO MEET YOU IFObtained an academic degree in Information Systems, Analytics, Economics, Computer Science, Statistics, or other similar quantitative fields.Proven track record of >1.5 years experience working with reports based on SQL and DWH systems in a large scale of data sets.Experience in managing data pipelines for automated reporting (ETL). Knowledge of Python or R is an advantage. Beneficial to have knowledge in data modelling and analytical methods.Google Analytics Certification / experienceHands-on experience with Tableau/Microstrategy > 1 year (certificate or working experience). Confident to visualise data in interactive dashboards.Experience in supporting your stakeholders with their use cases, including topics like derived metrics and troubleshooting any issue they might have.Effective communication skills in English, with the ability to express business requirements across cross-functional teams throughout various business units and tech units. ZALANDO BENEFITSCareer Development We offer peer-to-peer performance reviews twice a year  Learn and develop through our extensive Zalando training platform  Join regular all-hands, team meetings, Q&A-sessions, and quarterly anonymous employee surveys to ask your questions and provide your feedback  Support from an international team of experts; mentoring and professional development opportunities Wellbeing 2 days paid leave per year for volunteering  Minimum of 27 holiday days per calendar year  Online sports courses, wellbeing, and nutrition advice offered by Humanoo personal wellbeing coach app  Mental wellbeing support by our Employee Assistance Program and professional consultants to help you find health resources Flexibility Flexible working hours  Relocation assistance for internationals  If you work from an office in your role, a choice of office equipment to be delivered to you, to support you working from home due to COVID-19 safety Financial Access to the employee shares program  40% shopping discount on products shipped and sold by Zalando, and 30% discount on Zalando Lounge  Discounts from a wide range of external partners Family Employee parents\\u2019 forums and employee resource group  Supported transition into and out of parental leave, with a buddy and re-onboarding plan  3 fully-paid child sick days per year  Free counselling, assistance, and referral service for all matters concerning yourself and your family via the F\\u00fcrstenberg Institute  ABOUT ZALANDOIt\\u2019s the perfect time to join Zalando on our journey, from being a pioneer in the world of e-commerce, to the starting point for fashion in Europe. We connect customers, brands, and partners across 23 markets.Help us drive digital and sustainable solutions for fashion, logistics, advertising and research, bringing head-to-toe fashion to more than 46 million active customers through a team of diverse skill-sets, cultural backgrounds, and interests.Our values https //jobs.zalando.com/en/our-founding-mindsetdo.More - our sustainability strategy https //corporate.zalando.com/en/sustainabilityFollow us on Instagram instagram.com/insidezalandoWe celebrate diversity and are committed to building teams that represent a variety of backgrounds, perspectives and skills. All employment is decided on the basis of qualifications, merit and business need.Please note that all applications must be completed using the online form - we do not accept applications via email.\\n\\n\\n        Mehr anzeigen\\n\\n        \\n\\n\\n        Weniger anzeigen\\n\\n        \\n\\n\\n\", \"recruiter_name\": \"\", \"linkedin_recruiter_url\": \"\"}, {\"job_url\": \"https://de.linkedin.com/jobs/view/fp-a-analyst-at-choco-2970827999?refId=T74q54AY%2FiHZFPZpRXCc6w%3D%3D&trackingId=YGeWzweTBeJup8%2F06htXEQ%3D%3D&position=20&pageNum=0&trk=public_jobs_jserp-result_search-card\", \"linkedin_job_url_cleaned\": \"https://de.linkedin.com/jobs/view/fp-a-analyst-at-choco-2970827999\", \"company_name\": \"Choco\", \"company_url\": \"https://de.linkedin.com/company/choco-app?trk=public_jobs_jserp-result_job-search-card-subtitle\", \"linkedin_company_url_cleaned\": \"https://de.linkedin.com/company/choco-app\", \"job_title\": \"FP&A Analyst\", \"job_location\": \"Berlin, Berlin, Germany\", \"posted_date\": \"2022-05-03\", \"normalized_company_name\": \"Choco app\", \"full_text\": \"\\n\\n\\n        At Choco, we\\u2019re striving to build a seamlessly connected global food system by 2030. One that enables food to move around the planet transparently, sustainably and without waste. Today, Choco provides a platform connecting restaurants and suppliers resulting in better communication, simplified logistics, and - here comes the big one - less food waste. If you\\u2019re looking for a challenging new opportunity and the chance to make a real-world impact, we\\u2019d love to hear from you.The Role & ResponsibilitiesYou will be based in Berlin and reporting to Senior Finance ManagerWork with regional and group accountants to ensure reporting requirements are metAnalyze and report financial data and prepare budget insights for relevant stakeholdersDevelop and maintain BI data model within PowerBI and support relevant stakeholders with data queriesDevelop and maintain Choco Financial Plan Due to the highly collaborative nature of our business (and the fact that we enjoy spending time together), this is primarily an in-office position.Who We\\u2019re Looking ForUndergrad degree in Accounting and/or Finance1-2 years of experience in accounting, financial reporting, financial modeling, business intelligence or investment banking.Strong Excel skills.Experience working with PowerBIExperience working with SQL and PowerQuery is a plus, but not mandatory.Want to learn more about #LifeatChoco? Take a look behind the scenes: bit.ly/3HmmchdAbout ChocoFounded in 2018, Choco is a young, fast-moving company. What began as a Berlin-based startup has since expanded to a team of over 400 committed Chocorians working from Choco offices in the US, France, Belgium, Germany, Austria and Spain. Our ordering app is used by over 15,000 buyers (restaurants) and over 10,000 suppliers around the globe - bringing our annual order volume to an estimated 1 billion USD.Just a year after our $63.7 million Series A funding round, we secured an additional $100 million in Series B funding. We\\u2019re backed by leading investors like Insight Partners, LeftLane Capital, Coatue Management, and Bessemer Venture Partners. In addition, we\\u2019re working alongside those who built companies like Google, Facebook, Amazon, Uber, and more.--Choco is an equal opportunity employer. We encourage people from all backgrounds to apply. We are committed to ensuring that our technology is made available and accessible to everyone. All employment decisions are made without regard to race, color, national origin, ancestry, sex, gender, gender identity or expression, sexual orientation, age, genetic information, religion, disability, medical condition, pregnancy, marital status, family status, veteran status, or any other characteristic protected by law.\\n\\n\\n        Mehr anzeigen\\n\\n        \\n\\n\\n        Weniger anzeigen\\n\\n        \\n\\n\\n\", \"recruiter_name\": \"\", \"linkedin_recruiter_url\": \"\"}, {\"job_url\": \"https://de.linkedin.com/jobs/view/data-analyst-m-f-d-at-baobab-3059761165?refId=T74q54AY%2FiHZFPZpRXCc6w%3D%3D&trackingId=4jMWIZcIf1jYWaRAVGYiVQ%3D%3D&position=22&pageNum=0&trk=public_jobs_jserp-result_search-card\", \"linkedin_job_url_cleaned\": \"https://de.linkedin.com/jobs/view/data-analyst-m-f-d-at-baobab-3059761165\", \"company_name\": \"Baobab\", \"company_url\": \"https://de.linkedin.com/company/baobabinsurance?trk=public_jobs_jserp-result_job-search-card-subtitle\", \"linkedin_company_url_cleaned\": \"https://de.linkedin.com/company/baobabinsurance\", \"job_title\": \"Data Analyst (m/f/d)\", \"job_location\": \"Berlin, Berlin, Germany\", \"posted_date\": \"2022-05-04\", \"normalized_company_name\": \"Baobabinsurance\", \"full_text\": \"\\n\\n\\nYour missionIf you have a gift of innovative vision, have endless determination, great problem solving skills and set high standards for yourself, designing excellent web platforms, join our team in Berlin.You\\u2019ll develop, test and maintain our cyber risk modeling framework in Python which consists of several stages, such as model definition, mapping of data from external data sources, calculation of expected losses, scenario-based simulation etc.You\\u2019ll work closely with our cybersecurity and underwriting experts, collect their and understand their requirements, and implement them using cyber risk modeling frameworkYou will run portfolio simulation based on pre-defined attack scenarios using Markov-Chain Monte Carlo approach and analyze simulation resultsYou\\u2019ll test and document cyber risk model implementationYou\\u2019ll team up with developers to implement the price calculation algorithms in productionYou\\u2019ll build user friendly data applications and dashboard using Python and app frameworks such as Jupyter, Streamlit, DashYou\\u2019ll design and implement data analytics pipelines from scratch! Including data ingestion from external sources, data storage in a centralized data warehouse, data modeling and data visualizationYou'll contribute towards creation of data-driven, user-centric atmosphere in our team, by analyzing customer behavior, usage metrics, risk model performance, and supporting business stakeholders with analytics requestsYour profileYou have minimum 3 years of work experience in Python, Pandas, Numpy, JupyterYou have a good technical understanding of how to build analytics pipelines from scratch using cloud technologies (AWS, GCP)You pay strong attention to details, write maintainable and efficient code, and deliver high-quality and well-tested resultsYou have excellent communication skills and can clearly articulate your ideas, challenges, and suggestionsYou have a creative mindset and the ability to effectively manage time, priorities and deadlines with little supervisionYou are a strong team player who can collaborate effectively with different stakeholdersExcellent English skillsWhy us?A challenging and supportive environment with motivated colleagues, where you will be part of defining a completely new product or product features from scratch, where you can learn a lot and have funAttractive compensationA long-term development perspective in a growing companyA friendly team in which you are welcome as a person and in which the joy of work and development prospects are at the forefront\\n\\n\\n        Mehr anzeigen\\n\\n        \\n\\n\\n        Weniger anzeigen\\n\\n        \\n\\n\\n\", \"recruiter_name\": \"\", \"linkedin_recruiter_url\": \"\"}, {\"job_url\": \"https://de.linkedin.com/jobs/view/data-analyst-all-genders-at-babbel-3084742309?refId=T74q54AY%2FiHZFPZpRXCc6w%3D%3D&trackingId=ggygsg2pJoRA4AfGIDCMGQ%3D%3D&position=23&pageNum=0&trk=public_jobs_jserp-result_search-card\", \"linkedin_job_url_cleaned\": \"https://de.linkedin.com/jobs/view/data-analyst-all-genders-at-babbel-3084742309\", \"company_name\": \"Babbel\", \"company_url\": \"https://de.linkedin.com/company/babbel-com?trk=public_jobs_jserp-result_job-search-card-subtitle\", \"linkedin_company_url_cleaned\": \"https://de.linkedin.com/company/babbel-com\", \"job_title\": \"Data Analyst (all genders)\", \"job_location\": \"Berlin, Berlin, Germany\", \"posted_date\": \"2022-05-19\", \"normalized_company_name\": \"Babbel com\", \"full_text\": \"\\n\\n\\n        Babbel is driven by a purpose: Creating mutual understanding through language. This means building an ecosystem of language learning offerings that helps people connect across cultures. Babbel, Babbel Live and Babbel for Business provide users with the most effective solution to be able to communicate with real people, in real situations. The key is a blend of humanity and technology.More than 60,000 lessons across 14 languages are hand-crafted by 180+ linguists, with user behaviours continuously analysed to shape and tweak the learner experience. And it works: Studies with Yale University, City University of New York and Michigan State University prove its effectiveness. From headquarters in Berlin and New York, 750 people from more than 65 nationalities represent all the differences that make humans unique. Babbel is the most profitable language learning app worldwide, with more than 10 million subscriptions sold. For more information, visit www.babbel.com or download the apps in the App Store or Play Store.We are looking for a Data Analyst to start immediately as part of our Business Intelligence Team in Berlin!The Business Intelligence Team supports various stakeholders at Babbel to make data-driven decisions and helps them uncover levers for leads and subscription base.You will:Work with data engineers and other analysts to build reporting structures allowing for monitoring, performance measurement and analyses of marketing activitiesChallenge and contribute to analytical concepts for decision-making with insights and data modellingDevelop in-depth analytical understanding for what drives marketing performance, and uncover growth levers in focussed deep dive analysesDrive data mindset in the tribe and become a reliable and responsive point of contact for tribe leads and marketing managersYour haveYou have 3-5 years of data analysis experience, preferably for an online business with a proven track record of transforming data into actionable insightsYou love to enable people with data and insights and have a talent for building strong professional relationshipsYou are highly proficient in SQL (knowledge of Snowflake, MySQL, Tableau is a strong plus)You are proficient in Excel or equivalentYou have some experience with either Python or R (we use Python) and a good understanding of statisticsYou have a good understanding of Marketing controlling and business processesYou have experience with data visualization and presentation skillsYou are fluent in English to navigate the international environment at BabbelSome perks of becoming a Babbelonian:30 vacation days and flexible working hoursBVG card or Swapfiets bikeJobbatical and Sabbatical optionsMany internal & external learning opportunities to choose fromA yearly Learning & Development budgetVisa and relocation assistanceFull access to Babbel & Babbel Live classesModern office in the heart of buzzing Berlin equipped with a family, music, faith and nap roomVarious internal communities to be part of including the Femgineers+, DEI Ambassadors, Accessibility & Disability Group and moreJoin one of the fastest-growing education technology companies and contribute in making learning a whole new experience. And of course: get full access to our world-leading language learning content!Diversity at BabbelAs part of our ongoing journey towards building a diverse, equitable and inclusive company, we welcome everyone to apply, especially those individuals who are underrepresented in tech. We are a learning company, inside and out, and we encourage you to apply even if you do not fit all the technical requirements - all candidates are assessed based on skills, qualifications and on our business needs. Please state your pronouns at the beginning of your application, and let us know if you\\u2019d like to be addressed by a name other than the one appearing on your official documents. If you have a disability or special need, feel welcome to inform us, so that we can provide you with the proper assistance in the application process.Sounds good? We are already looking forward hearing from you! Check out our jobs page, our blog, and our techblog!\\n      \\n\\n        Mehr anzeigen\\n\\n        \\n\\n\\n        Weniger anzeigen\\n\\n        \\n\\n\\n\", \"recruiter_name\": \"\", \"linkedin_recruiter_url\": \"\"}, {\"job_url\": \"https://de.linkedin.com/jobs/view/bi-analyst-m-f-d-berlin-or-100%25-remote-at-zolar-3073414717?refId=T74q54AY%2FiHZFPZpRXCc6w%3D%3D&trackingId=4%2Fapay1pR8ZS%2FRPfjtac6w%3D%3D&position=24&pageNum=0&trk=public_jobs_jserp-result_search-card\", \"linkedin_job_url_cleaned\": \"https://de.linkedin.com/jobs/view/bi-analyst-m-f-d-berlin-or-100%25-remote-at-zolar-3073414717\", \"company_name\": \"zolar\", \"company_url\": \"https://de.linkedin.com/company/zolar-gmbh?trk=public_jobs_jserp-result_job-search-card-subtitle\", \"linkedin_company_url_cleaned\": \"https://de.linkedin.com/company/zolar-gmbh\", \"job_title\": \"BI Analyst (m/f/d) - Berlin or 100% remote\", \"job_location\": \"Berlin, Berlin, Germany\", \"posted_date\": \"2022-05-13\", \"normalized_company_name\": \"Zolar gmbh\", \"full_text\": \"\\n\\n\\nYour role at zolarYou continuously improve a companywide reporting structure that fosters data driven decision makingYou help all departments within Operations to not only understand and accept data but embrace itYou engage with internal stakeholders to understand their business needs and find data-driven solutionsYou aggregate, analyze, and visualize Data to advice the Leads in Operations with actionable insightsYou have an affinity for presenting information in an articulate manner to various stakeholdersYou want to work on new concepts and create tools to improve the handling of our projectsYour QualificationsYou have, at least, 3 years\\u2019 experience in jobs working with complex data sets and conducting analyses to support important decisions in the companyYou have a bachelor\\u2019s degree in a data driven study program such as statistics, engineering, computer science, or related disciplineYou have strong analytical skills and can structure your data in a way to be easily digestible by your peers (Tableau is a plus)You do not have any problem taking on new challenges in the daily work of your department and translate them into data-based solutionsYou like working in a team and actively support your colleaguesYou like taking on responsibility and have very good project management skillsYou are fluent in EnglishWhat Zolar Offers You100% remote working possible (within Germany) // Stay flexibleWhether you want to save yourself the commute to work or want to see your colleagues in person \\u2013 you are free to choose how many days you work remotely or in the office. In addition, you also have the option of working in another EU country for four weeks a year.Mental health & yoga // Stay healthyBe it during COVID-19 or normal times \\u2013 your mental and physical health is a matter close to our hearts. In addition to a mental health programme, we also offer free yoga sessions and a discounted M membership at Urban Sports Club.Meeting-free daysTwo half-days each week are kept completely free of meetings to ensure you can focus on your work without interruptions.Remote work equipment // Ready for workWe want you to be able to work as well at home as you can in the office, so we provide you with a one-off budget to purchase a desk, chair or monitor for your remote work.Dog policy // Bring your own dogA variety of four-legged feel-good managers provide natural entertainment in the office and enjoy the attention of their two-legged colleagues.Company pension plan // Live well tomorrowA world worth living in is a matter close to our hearts, which is why we offer our employees support in their private retirement planning with the help of responsible providers.Leapsome feedback // We love feedbackWe are proud of our open feedback culture, but we know that it is sometimes difficult to share your opinion out loud. For such cases, there are weekly Leapsome surveys, where you can submit your input on different topics anonymously.zolar Academy & CPD budget // Stay inquisitiveThe zolar Academy offers you interesting presentations and insights into different fields (of work) every month. Speaking of interesting insights: an annual CPD budget means you can take a deep dive into topics that both interest you and further your career.All-hands meetings // Stay informedThe latest company figures and goals are discussed transparently at monthly all-hands meetings.Onboarding day & buddy programme // Involved instead of just employedGet off to a great start \\u2013 with a comprehensive onboarding process, a buddy by your side and regular team events.Climate protection // One loveFrom Veggie Wednesday to certification as a climate-neutral company \\u2013 climate protection truly is a matter close to our hearts.Your contact personDaniel Heidelberg is looking forward to your application!Our careerpage gives you a first impression of our company culture.\\n      \\n\\n        Mehr anzeigen\\n\\n        \\n\\n\\n        Weniger anzeigen\\n\\n        \\n\\n\\n\", \"recruiter_name\": \"\", \"linkedin_recruiter_url\": \"\"}, {\"job_url\": \"https://de.linkedin.com/jobs/view/financial-analyst-at-amboss-3080470337?refId=T74q54AY%2FiHZFPZpRXCc6w%3D%3D&trackingId=qJBTJhr5GE%2BOH8yv03h5%2Bg%3D%3D&position=25&pageNum=0&trk=public_jobs_jserp-result_search-card\", \"linkedin_job_url_cleaned\": \"https://de.linkedin.com/jobs/view/financial-analyst-at-amboss-3080470337\", \"company_name\": \"AMBOSS\", \"company_url\": \"https://de.linkedin.com/company/amboss-md?trk=public_jobs_jserp-result_job-search-card-subtitle\", \"linkedin_company_url_cleaned\": \"https://de.linkedin.com/company/amboss-md\", \"job_title\": \"Financial Analyst\", \"job_location\": \"Berlin, Berlin, Germany\", \"posted_date\": \"2022-05-16\", \"normalized_company_name\": \"Amboss md\", \"full_text\": \"\\n\\n\\nDescriptionWhy Finance at AMBOSS?Finance offers you a vibrant atmosphere home to a dynamic, close-knit team. Far from limiting you to one far-flung corner of the office, the cross-departmental nature of your work will afford you a fantastic overview of the whole organization as you support teams with impactful analysis and financial insight. You\\u2019ll have the chance to work on a diverse range of projects, so you don\\u2019t have to worry about a varied workday, and you can rely on a supportive team environment as well as the space to come up with your own solutions to problems. Fostering professional development, AMBOSS also offers workshops and seminars to help you refine your technical and soft skills. What\\u2019s not to love?What You Will DoPerform as a central knowledge center of the business, providing analysis and insights in AMBOSS\\u2019 markets, including: forecasting, pricing analyses, risk management or assessing new investment opportunities.Build financial models, run scenario analyses and provide data analytics to identify areas of risk and opportunity; conduct monthly variance analyses to keep track of key financial and user metrics.Be an integral part of the annual and quarterly business planning cycles to help shape and inform company wide goal-setting and business-critical decision-making.Support the preparation of financial reporting packages to management and shareholders.Contribute to the expansion, sophistication and automation of internal reporting processes.Develop partnerships with key operational stakeholders (Marketing, Sales Teams, R&D, HR) and be a sparring partner in their decision making by providing impactful analysis working closely together with our Data/BI team.What You Will BringA university degree or similar in Business Administration, Economics, Industrial Engineering, Business Informatics or a comparable subject, with an academic record of high achievement.Excellent verbal and written English skills. German is a plus.First relevant working experience (e.g. in a first job, during internships or as a working student).Excellent Excel / spreadsheet skills. Knowledge of analytical / BI-tools and techniques (coding and SQL capabilities) are a plus.Good understanding of financial principles and relevant metrics.Entrepreneurial thinking and a pronounced sense of responsibility.High attention to detail and accuracy.Strong verbal and written communication skills and the ability to synthesize complex information and deliver effective recommendations to all levels. Why AMBOSS?AMBOSS is a powerful learning and clinical decision support tool striving to empower physicians across the globe to provide the best possible care. Since our launch in 2012, we've used the latest in cutting-edge technology to create the most comprehensive study and reference guide on the market and revolutionized the way physicians and medical students acquire their know-how.By 2017, we transformed the learning experience for 95% of the German market and launched our international platform. In 2019, our hard work secured \\u20ac30M in Series B funding to expand our products and their reach. Today, we continue to find new ways to innovate and establish ourselves to make a global impact. After being named a Top 10 Health & Science company to watch in 2021 by Business Punk, it is clear that we are not the only ones who are excited about the future of AMBOSS.The AMBOSS Prescription Set your own biological clock: Make use of our flextime and home office options.  Keep the hemoglobin flowing: Enjoy our fitness and wellness program with a subsidized gym membership or Fitbit. Get some well-deserved rest: Enjoy 30 paid vacation days as standard, increasing with tenure every 2 years, plus an individual purpose day and a company-wide day off each year.  Keep those synapses firing with an individual learning budget to invest in your personal development. No risk of high cholesterol here! Our in-house chef prepares healthy, delicious menus for breakfast and lunch every day (with both carnivore and veggie options). The office is always full of fruit and snacks, and you can even take your barista skills to the next level with our amazing Italian espresso machine Your doctor recommends time off your feet? Our mobility perks have you covered with a subsidized yearly public transportation card. Or, prefer a little extra exercise? Then choose a subsidized bike instead! Plan for your long-term financial health with our attractive corporate pension options. Reduce that childcare-associated cortisol build-up: Bring your child along to our AMBOSS Daycare when your Kita is closed, or use it to bridge the gap until you find a Kita spot. Need a little extra vitamin D? Enjoy a change of pace when you visit our sunny office in Cagliari, Sardinia. Welcome to AMBOSSWe believe it is impossible to put every type of diversity into words. We always have and always will live with the intention that every person, from every background and demographic is welcome. Whoever you are, and wherever you come from, we believe you have something to add to our mission.\\n      \\n\\n        Mehr anzeigen\\n\\n        \\n\\n\\n        Weniger anzeigen\\n\\n        \\n\\n\\n\", \"recruiter_name\": \"\", \"linkedin_recruiter_url\": \"\"}]\n"
     ]
    }
   ],
   "source": [
    "##pulling data from Linkedin API\n",
    "##limit:20, used: 4\n",
    "import requests\n",
    "\n",
    "url = \"https://linkedin-jobs-search.p.rapidapi.com/\"\n",
    "\n",
    "payload = {\n",
    "\t\"search_terms\": \"analyst\",\n",
    "\t\"location\": \"berlin\",\n",
    "\t\"fetch_full_text\": \"yes\"\n",
    "}\n",
    "headers = {\n",
    "\t\"content-type\": \"application/json\",\n",
    "\t\"X-RapidAPI-Host\": \"linkedin-jobs-search.p.rapidapi.com\",\n",
    "\t\"X-RapidAPI-Key\": \"e59a85ffc9mshd439a8fc17a686ep17369fjsn188a0cc3d5dd\"\n",
    "}\n",
    "\n",
    "response = requests.request(\"POST\", url, json=payload, headers=headers)\n",
    "\n",
    "print(response.text)"
   ]
  },
  {
   "cell_type": "code",
   "execution_count": 109,
   "id": "bd8b2c66",
   "metadata": {},
   "outputs": [],
   "source": [
    "linkedin_data = pd.json_normalize(response.json())"
   ]
  },
  {
   "cell_type": "code",
   "execution_count": 110,
   "id": "d9b76788",
   "metadata": {},
   "outputs": [
    {
     "data": {
      "text/html": [
       "<div>\n",
       "<style scoped>\n",
       "    .dataframe tbody tr th:only-of-type {\n",
       "        vertical-align: middle;\n",
       "    }\n",
       "\n",
       "    .dataframe tbody tr th {\n",
       "        vertical-align: top;\n",
       "    }\n",
       "\n",
       "    .dataframe thead th {\n",
       "        text-align: right;\n",
       "    }\n",
       "</style>\n",
       "<table border=\"1\" class=\"dataframe\">\n",
       "  <thead>\n",
       "    <tr style=\"text-align: right;\">\n",
       "      <th></th>\n",
       "      <th>job_url</th>\n",
       "      <th>linkedin_job_url_cleaned</th>\n",
       "      <th>company_name</th>\n",
       "      <th>company_url</th>\n",
       "      <th>linkedin_company_url_cleaned</th>\n",
       "      <th>job_title</th>\n",
       "      <th>job_location</th>\n",
       "      <th>posted_date</th>\n",
       "      <th>normalized_company_name</th>\n",
       "      <th>full_text</th>\n",
       "      <th>recruiter_name</th>\n",
       "      <th>linkedin_recruiter_url</th>\n",
       "    </tr>\n",
       "  </thead>\n",
       "  <tbody>\n",
       "    <tr>\n",
       "      <th>0</th>\n",
       "      <td>https://de.linkedin.com/jobs/view/quality-anal...</td>\n",
       "      <td>https://de.linkedin.com/jobs/view/quality-anal...</td>\n",
       "      <td>TikTok</td>\n",
       "      <td>https://www.linkedin.com/company/tiktok?trk=pu...</td>\n",
       "      <td>https://www.linkedin.com/company/tiktok</td>\n",
       "      <td>Quality Analyst-Turkish Speaker</td>\n",
       "      <td>Berlin, Berlin, Germany</td>\n",
       "      <td>2022-04-19</td>\n",
       "      <td>Tiktok</td>\n",
       "      <td>\\n\\n\\nResponsibilitiesTikTok is the leading de...</td>\n",
       "      <td></td>\n",
       "      <td></td>\n",
       "    </tr>\n",
       "    <tr>\n",
       "      <th>1</th>\n",
       "      <td>https://de.linkedin.com/jobs/view/analyst-at-e...</td>\n",
       "      <td>https://de.linkedin.com/jobs/view/analyst-at-e...</td>\n",
       "      <td>Engel &amp; Völkers Commercial Berlin</td>\n",
       "      <td>https://de.linkedin.com/company/engelvoelkersc...</td>\n",
       "      <td>https://de.linkedin.com/company/engelvoelkersc...</td>\n",
       "      <td>Analyst</td>\n",
       "      <td>Berlin, Germany</td>\n",
       "      <td>2022-05-19</td>\n",
       "      <td>Engelvoelkerscommercial</td>\n",
       "      <td>\\n\\n\\n        We are hiring! wir suchen dringe...</td>\n",
       "      <td>Nachricht an Moritz Chrambach, CFA</td>\n",
       "      <td>https://de.linkedin.com/in/mchrambach</td>\n",
       "    </tr>\n",
       "    <tr>\n",
       "      <th>2</th>\n",
       "      <td>https://de.linkedin.com/jobs/view/service-oper...</td>\n",
       "      <td>https://de.linkedin.com/jobs/view/service-oper...</td>\n",
       "      <td>Tesla</td>\n",
       "      <td>https://www.linkedin.com/company/tesla-motors?...</td>\n",
       "      <td>https://www.linkedin.com/company/tesla-motors</td>\n",
       "      <td>Service Operations Analyst - Business Performa...</td>\n",
       "      <td>Berlin, Berlin, Germany</td>\n",
       "      <td>2022-03-24</td>\n",
       "      <td>Tesla motors</td>\n",
       "      <td>\\n\\n\\nThe RoleAt Tesla, our Service Operations...</td>\n",
       "      <td></td>\n",
       "      <td></td>\n",
       "    </tr>\n",
       "    <tr>\n",
       "      <th>3</th>\n",
       "      <td>https://de.linkedin.com/jobs/view/financial-an...</td>\n",
       "      <td>https://de.linkedin.com/jobs/view/financial-an...</td>\n",
       "      <td>OneFootball</td>\n",
       "      <td>https://de.linkedin.com/company/onefootball?tr...</td>\n",
       "      <td>https://de.linkedin.com/company/onefootball</td>\n",
       "      <td>Financial Analyst</td>\n",
       "      <td>Berlin, Berlin, Germany</td>\n",
       "      <td>2022-05-06</td>\n",
       "      <td>Onefootball</td>\n",
       "      <td>\\n\\n\\n        Join OneFootball and become a vi...</td>\n",
       "      <td></td>\n",
       "      <td></td>\n",
       "    </tr>\n",
       "    <tr>\n",
       "      <th>4</th>\n",
       "      <td>https://de.linkedin.com/jobs/view/junior-logis...</td>\n",
       "      <td>https://de.linkedin.com/jobs/view/junior-logis...</td>\n",
       "      <td>Amazon</td>\n",
       "      <td>https://www.linkedin.com/company/amazon?trk=pu...</td>\n",
       "      <td>https://www.linkedin.com/company/amazon</td>\n",
       "      <td>Junior Logistics Analyst (m/f/x) - Barcelona</td>\n",
       "      <td>Berlin, Berlin, Germany</td>\n",
       "      <td>2022-05-07</td>\n",
       "      <td>Amazon</td>\n",
       "      <td>\\n\\n\\nJob SummaryDESCRIPTIONWe’re expanding ou...</td>\n",
       "      <td></td>\n",
       "      <td></td>\n",
       "    </tr>\n",
       "  </tbody>\n",
       "</table>\n",
       "</div>"
      ],
      "text/plain": [
       "                                             job_url  \\\n",
       "0  https://de.linkedin.com/jobs/view/quality-anal...   \n",
       "1  https://de.linkedin.com/jobs/view/analyst-at-e...   \n",
       "2  https://de.linkedin.com/jobs/view/service-oper...   \n",
       "3  https://de.linkedin.com/jobs/view/financial-an...   \n",
       "4  https://de.linkedin.com/jobs/view/junior-logis...   \n",
       "\n",
       "                            linkedin_job_url_cleaned  \\\n",
       "0  https://de.linkedin.com/jobs/view/quality-anal...   \n",
       "1  https://de.linkedin.com/jobs/view/analyst-at-e...   \n",
       "2  https://de.linkedin.com/jobs/view/service-oper...   \n",
       "3  https://de.linkedin.com/jobs/view/financial-an...   \n",
       "4  https://de.linkedin.com/jobs/view/junior-logis...   \n",
       "\n",
       "                        company_name  \\\n",
       "0                             TikTok   \n",
       "1  Engel & Völkers Commercial Berlin   \n",
       "2                              Tesla   \n",
       "3                        OneFootball   \n",
       "4                             Amazon   \n",
       "\n",
       "                                         company_url  \\\n",
       "0  https://www.linkedin.com/company/tiktok?trk=pu...   \n",
       "1  https://de.linkedin.com/company/engelvoelkersc...   \n",
       "2  https://www.linkedin.com/company/tesla-motors?...   \n",
       "3  https://de.linkedin.com/company/onefootball?tr...   \n",
       "4  https://www.linkedin.com/company/amazon?trk=pu...   \n",
       "\n",
       "                        linkedin_company_url_cleaned  \\\n",
       "0            https://www.linkedin.com/company/tiktok   \n",
       "1  https://de.linkedin.com/company/engelvoelkersc...   \n",
       "2      https://www.linkedin.com/company/tesla-motors   \n",
       "3        https://de.linkedin.com/company/onefootball   \n",
       "4            https://www.linkedin.com/company/amazon   \n",
       "\n",
       "                                           job_title             job_location  \\\n",
       "0                    Quality Analyst-Turkish Speaker  Berlin, Berlin, Germany   \n",
       "1                                            Analyst          Berlin, Germany   \n",
       "2  Service Operations Analyst - Business Performa...  Berlin, Berlin, Germany   \n",
       "3                                  Financial Analyst  Berlin, Berlin, Germany   \n",
       "4       Junior Logistics Analyst (m/f/x) - Barcelona  Berlin, Berlin, Germany   \n",
       "\n",
       "  posted_date  normalized_company_name  \\\n",
       "0  2022-04-19                   Tiktok   \n",
       "1  2022-05-19  Engelvoelkerscommercial   \n",
       "2  2022-03-24             Tesla motors   \n",
       "3  2022-05-06              Onefootball   \n",
       "4  2022-05-07                   Amazon   \n",
       "\n",
       "                                           full_text  \\\n",
       "0  \\n\\n\\nResponsibilitiesTikTok is the leading de...   \n",
       "1  \\n\\n\\n        We are hiring! wir suchen dringe...   \n",
       "2  \\n\\n\\nThe RoleAt Tesla, our Service Operations...   \n",
       "3  \\n\\n\\n        Join OneFootball and become a vi...   \n",
       "4  \\n\\n\\nJob SummaryDESCRIPTIONWe’re expanding ou...   \n",
       "\n",
       "                       recruiter_name                 linkedin_recruiter_url  \n",
       "0                                                                             \n",
       "1  Nachricht an Moritz Chrambach, CFA  https://de.linkedin.com/in/mchrambach  \n",
       "2                                                                             \n",
       "3                                                                             \n",
       "4                                                                             "
      ]
     },
     "execution_count": 110,
     "metadata": {},
     "output_type": "execute_result"
    }
   ],
   "source": [
    "linkedin_data.head()\n"
   ]
  },
  {
   "cell_type": "code",
   "execution_count": 111,
   "id": "dbd29abc",
   "metadata": {},
   "outputs": [],
   "source": [
    "pickle.dump(linkedin_data, open(\"linkedin_data.pkl\", \"wb\"))"
   ]
  },
  {
   "cell_type": "code",
   "execution_count": 4,
   "id": "864c4956",
   "metadata": {},
   "outputs": [],
   "source": [
    "linkedin_data = pd.DataFrame()\n",
    "linkedin_data = pd.read_pickle('linkedin_data.pkl')"
   ]
  },
  {
   "cell_type": "code",
   "execution_count": 2,
   "id": "b24b72e1",
   "metadata": {},
   "outputs": [],
   "source": [
    "##pull the sample resume\n",
    "resume = docx2txt.process(\"Sample_CV.docx\")\n"
   ]
  },
  {
   "cell_type": "code",
   "execution_count": 3,
   "id": "e238dfd8",
   "metadata": {},
   "outputs": [],
   "source": [
    "johana = docx2txt.process(\"Yuan Feng,Yi Bin Johana Apr 2022.docx\")"
   ]
  },
  {
   "cell_type": "code",
   "execution_count": 5,
   "id": "30f236b3",
   "metadata": {},
   "outputs": [],
   "source": [
    "##only extracting the main information I need for the model\n",
    "data_jobdescription = pd.DataFrame(linkedin_data['full_text'])"
   ]
  },
  {
   "cell_type": "code",
   "execution_count": 6,
   "id": "168a6402",
   "metadata": {},
   "outputs": [
    {
     "data": {
      "text/html": [
       "<div>\n",
       "<style scoped>\n",
       "    .dataframe tbody tr th:only-of-type {\n",
       "        vertical-align: middle;\n",
       "    }\n",
       "\n",
       "    .dataframe tbody tr th {\n",
       "        vertical-align: top;\n",
       "    }\n",
       "\n",
       "    .dataframe thead th {\n",
       "        text-align: right;\n",
       "    }\n",
       "</style>\n",
       "<table border=\"1\" class=\"dataframe\">\n",
       "  <thead>\n",
       "    <tr style=\"text-align: right;\">\n",
       "      <th></th>\n",
       "      <th>full_text</th>\n",
       "    </tr>\n",
       "  </thead>\n",
       "  <tbody>\n",
       "    <tr>\n",
       "      <th>0</th>\n",
       "      <td>\\n\\n\\nResponsibilitiesTikTok is the leading de...</td>\n",
       "    </tr>\n",
       "    <tr>\n",
       "      <th>1</th>\n",
       "      <td>\\n\\n\\n        We are hiring! wir suchen dringe...</td>\n",
       "    </tr>\n",
       "    <tr>\n",
       "      <th>2</th>\n",
       "      <td>\\n\\n\\nThe RoleAt Tesla, our Service Operations...</td>\n",
       "    </tr>\n",
       "    <tr>\n",
       "      <th>3</th>\n",
       "      <td>\\n\\n\\n        Join OneFootball and become a vi...</td>\n",
       "    </tr>\n",
       "    <tr>\n",
       "      <th>4</th>\n",
       "      <td>\\n\\n\\nJob SummaryDESCRIPTIONWe’re expanding ou...</td>\n",
       "    </tr>\n",
       "  </tbody>\n",
       "</table>\n",
       "</div>"
      ],
      "text/plain": [
       "                                           full_text\n",
       "0  \\n\\n\\nResponsibilitiesTikTok is the leading de...\n",
       "1  \\n\\n\\n        We are hiring! wir suchen dringe...\n",
       "2  \\n\\n\\nThe RoleAt Tesla, our Service Operations...\n",
       "3  \\n\\n\\n        Join OneFootball and become a vi...\n",
       "4  \\n\\n\\nJob SummaryDESCRIPTIONWe’re expanding ou..."
      ]
     },
     "execution_count": 6,
     "metadata": {},
     "output_type": "execute_result"
    }
   ],
   "source": [
    "data_jobdescription.head()"
   ]
  },
  {
   "cell_type": "code",
   "execution_count": 7,
   "id": "ea196543",
   "metadata": {},
   "outputs": [],
   "source": [
    "## First round cleaning\n",
    "def clean_text_round1(text):\n",
    "    ##make all word lower case, remove link, email address\n",
    "    text = text.lower()\n",
    "    text = re.sub('\\[.*?\\]', '', text)\n",
    "    text = re.sub(r'http\\S+', '', text)\n",
    "    text = re.sub(r'[\\w\\.-]+@[\\w\\.-]+', \" \", text)\n",
    "    #turning all languages to unidecode \n",
    "    text = unidecode.unidecode(text)\n",
    "    ##remove extra white space\n",
    "    pattern = re.compile(r'\\s+') \n",
    "    Without_whitespace = re.sub(pattern, ' ', text)\n",
    "    ##removing the basic punctuation\n",
    "    for i in string.punctuation: \n",
    "        text = Without_whitespace.replace(i , ' ')\n",
    "        \n",
    "    ##removing extra punctuation   \n",
    "    text = Without_whitespace.replace('?', ' ').replace(')', ' ').replace('(',' ').replace('•', ' • ').replace(\":\", \" \").replace(',',' ').replace('.', ' ').replace('/',' ').replace('!', \" \").replace(';', ' ').replace('*', ' ').replace('\"', ' ').replace('-',' ').replace('”', \" \").replace('>', ' ').replace('-',' ').replace(\"'s\", ' ')\n",
    "    return text\n",
    "\n",
    "round1 = lambda x: clean_text_round1(x)"
   ]
  },
  {
   "cell_type": "code",
   "execution_count": 8,
   "id": "354ca253",
   "metadata": {},
   "outputs": [],
   "source": [
    "def clean_text_round2(data_column):\n",
    "    word_count = pd.DataFrame(' '.join(data_column).split()).value_counts()\n",
    "    list2=[]\n",
    "    list3 = data_column.values.tolist()\n",
    "    with alive_bar(force_tty = True) as bar: \n",
    "        for a in range(0, len(data_column)): \n",
    "            list1 = []\n",
    "            for b in range(0, len(list3[a].split())):\n",
    "                if word_count[list3[a].split()[b]] > 4:\n",
    "                    list1.append(list3[a].split()[b])\n",
    "                else:\n",
    "                    text = wordninja.split(list3[a].split()[b])\n",
    "                    for i in range(0, len(text)):\n",
    "                        list1.append(text[i])\n",
    "            list2.append(list1)\n",
    "        bar()\n",
    "    for i in range(0, len(data_column)):\n",
    "        text=' '.join(list2[i])\n",
    "        data_column.iloc[i] = text\n",
    "#downside: this code takes too much time to run. "
   ]
  },
  {
   "cell_type": "code",
   "execution_count": 9,
   "id": "e465008f",
   "metadata": {},
   "outputs": [],
   "source": [
    "#replace one digital number, you can consider this step as one step before the cleaning out all the digits. \n",
    "def clean_text_round3(text):\n",
    "    ##replace one digial number which could indicate year of experience into words. \n",
    "    text = re.sub(\" 1 \", \" one \", text)\n",
    "    text = re.sub(\" 2 \", \" two \", text)\n",
    "    text = re.sub(\" 3 \", \" three \", text)\n",
    "    text = re.sub(\" 4 \", \" four \", text)\n",
    "    text = re.sub(\" 5 \", \" five \", text)\n",
    "    text = re.sub(\" 6 \", \" six \", text)\n",
    "    text = re.sub(\" 7 \", \" seven \", text)\n",
    "    text = re.sub(\" 8 \", \" eight \", text)\n",
    "    text = re.sub(\" 9 \", \" nine \", text)\n",
    "    text = re.sub(\" 10 \", \" ten \", text)\n",
    "    text = re.sub(\" 1+ \", \" one \", text)\n",
    "    text = re.sub(\" 2+ \", \" two \", text)\n",
    "    text = re.sub(\" 3+ \", \" three \", text)\n",
    "    text = re.sub(\" 4+ \", \" four \", text)\n",
    "    text = re.sub(\" 5+ \", \" five \", text)\n",
    "    text = re.sub(\" 6+ \", \" six \", text)\n",
    "    text = re.sub(\" 7+ \", \" seven \", text)\n",
    "    text = re.sub(\" 8+ \", \" eight \", text)\n",
    "    text = re.sub(\" 9+ \", \" nine \", text)\n",
    "    text = re.sub(\" 10+ \", \" ten \", text)\n",
    "    return text\n",
    "\n",
    "round3 = lambda x: clean_text_round3(x)\n"
   ]
  },
  {
   "cell_type": "code",
   "execution_count": 10,
   "id": "5070e1d8",
   "metadata": {},
   "outputs": [],
   "source": [
    "#@cleaning all digits in the dateset, aiming for telephone number or zip code or job ID etc. \n",
    "def clean_text_round4(text):\n",
    "    ##removing all digital \n",
    "    text = re.sub('\\d', '', text)\n",
    "    return text\n",
    "\n",
    "round4 = lambda x: clean_text_round4(x)"
   ]
  },
  {
   "cell_type": "code",
   "execution_count": 11,
   "id": "9b7bd73a",
   "metadata": {},
   "outputs": [],
   "source": [
    "data_clean = pd.DataFrame(data_jobdescription.full_text.apply(round1))"
   ]
  },
  {
   "cell_type": "code",
   "execution_count": 12,
   "id": "4919385c",
   "metadata": {},
   "outputs": [
    {
     "name": "stdout",
     "output_type": "stream",
     "text": [
      "|████████████████████████████████████████| (!) 1 in 2.3s (0.44/s) \n"
     ]
    }
   ],
   "source": [
    "clean_text_round2(data_clean['full_text'])"
   ]
  },
  {
   "cell_type": "code",
   "execution_count": 13,
   "id": "3487bc65",
   "metadata": {},
   "outputs": [],
   "source": [
    "data_clean = pd.DataFrame(data_jobdescription.full_text.apply(round3))\n",
    "data_clean = pd.DataFrame(data_jobdescription.full_text.apply(round4))"
   ]
  },
  {
   "cell_type": "code",
   "execution_count": 14,
   "id": "2062d8bb",
   "metadata": {},
   "outputs": [],
   "source": [
    "d = {'resume': [resume]}\n",
    "df_resume = pd.DataFrame(data = d)"
   ]
  },
  {
   "cell_type": "code",
   "execution_count": 16,
   "id": "8c06a1b2",
   "metadata": {},
   "outputs": [],
   "source": [
    "d_jo = {'resume': [johana]}\n",
    "df_resume_jo = pd.DataFrame(data = d_jo)"
   ]
  },
  {
   "cell_type": "code",
   "execution_count": 15,
   "id": "60883c24",
   "metadata": {},
   "outputs": [
    {
     "name": "stdout",
     "output_type": "stream",
     "text": [
      "|████████████████████████████████████████| (!) 1 in 0.2s (5.67/s) \n"
     ]
    },
    {
     "data": {
      "text/html": [
       "<div>\n",
       "<style scoped>\n",
       "    .dataframe tbody tr th:only-of-type {\n",
       "        vertical-align: middle;\n",
       "    }\n",
       "\n",
       "    .dataframe tbody tr th {\n",
       "        vertical-align: top;\n",
       "    }\n",
       "\n",
       "    .dataframe thead th {\n",
       "        text-align: right;\n",
       "    }\n",
       "</style>\n",
       "<table border=\"1\" class=\"dataframe\">\n",
       "  <thead>\n",
       "    <tr style=\"text-align: right;\">\n",
       "      <th></th>\n",
       "      <th>resume</th>\n",
       "    </tr>\n",
       "  </thead>\n",
       "  <tbody>\n",
       "    <tr>\n",
       "      <th>0</th>\n",
       "      <td>maria lisa email phone five  five career summa...</td>\n",
       "    </tr>\n",
       "  </tbody>\n",
       "</table>\n",
       "</div>"
      ],
      "text/plain": [
       "                                              resume\n",
       "0  maria lisa email phone five  five career summa..."
      ]
     },
     "execution_count": 15,
     "metadata": {},
     "output_type": "execute_result"
    }
   ],
   "source": [
    "df_resume = pd.DataFrame(df_resume['resume'].apply(round1))\n",
    "clean_text_round2(df_resume['resume'])\n",
    "df_resume = pd.DataFrame(df_resume['resume'].apply(round3))\n",
    "df_resume = pd.DataFrame(df_resume['resume'].apply(round4))\n",
    "df_resume\n"
   ]
  },
  {
   "cell_type": "code",
   "execution_count": 17,
   "id": "df09bfa6",
   "metadata": {},
   "outputs": [
    {
     "name": "stdout",
     "output_type": "stream",
     "text": [
      "|████████████████████████████████████████| (!) 1 in 0.3s (3.92/s) \n"
     ]
    },
    {
     "data": {
      "text/html": [
       "<div>\n",
       "<style scoped>\n",
       "    .dataframe tbody tr th:only-of-type {\n",
       "        vertical-align: middle;\n",
       "    }\n",
       "\n",
       "    .dataframe tbody tr th {\n",
       "        vertical-align: top;\n",
       "    }\n",
       "\n",
       "    .dataframe thead th {\n",
       "        text-align: right;\n",
       "    }\n",
       "</style>\n",
       "<table border=\"1\" class=\"dataframe\">\n",
       "  <thead>\n",
       "    <tr style=\"text-align: right;\">\n",
       "      <th></th>\n",
       "      <th>resume</th>\n",
       "    </tr>\n",
       "  </thead>\n",
       "  <tbody>\n",
       "    <tr>\n",
       "      <th>0</th>\n",
       "      <td>yi bin johan a yuan feng email mobile   educat...</td>\n",
       "    </tr>\n",
       "  </tbody>\n",
       "</table>\n",
       "</div>"
      ],
      "text/plain": [
       "                                              resume\n",
       "0  yi bin johan a yuan feng email mobile   educat..."
      ]
     },
     "execution_count": 17,
     "metadata": {},
     "output_type": "execute_result"
    }
   ],
   "source": [
    "df_resume_jo = pd.DataFrame(df_resume_jo['resume'].apply(round1))\n",
    "clean_text_round2(df_resume_jo['resume'])\n",
    "df_resume_jo = pd.DataFrame(df_resume_jo['resume'].apply(round3))\n",
    "df_resume_jo = pd.DataFrame(df_resume_jo['resume'].apply(round4))\n",
    "df_resume_jo"
   ]
  },
  {
   "cell_type": "code",
   "execution_count": 18,
   "id": "bedae8d7",
   "metadata": {},
   "outputs": [],
   "source": [
    "## comparing the resume to every job description in the dataset\n",
    "similarity_scores = []\n",
    "from sklearn.feature_extraction.text import CountVectorizer\n",
    "\n",
    "cv = CountVectorizer(stop_words='english')\n",
    "for i in range(0,len(data_clean)):\n",
    "    job_description = data_clean.iloc[i]['full_text']\n",
    "    text = [johana, job_description]\n",
    "    count_matrix = cv.fit_transform(text)\n",
    "    similarity_scores.append(cosine_similarity(count_matrix)[0][1])"
   ]
  },
  {
   "cell_type": "code",
   "execution_count": 25,
   "id": "15813bf1",
   "metadata": {},
   "outputs": [],
   "source": [
    "## comparing the resume to every job description in the dataset\n",
    "similarity_scores = []\n",
    "from sklearn.feature_extraction.text import CountVectorizer\n",
    "\n",
    "cv = CountVectorizer(stop_words='english')\n",
    "for i in range(0,len(data_clean)):\n",
    "    job_description = data_clean.iloc[i]['full_text']\n",
    "    text = [resume, job_description]\n",
    "    count_matrix = cv.fit_transform(text)\n",
    "    similarity_scores.append(cosine_similarity(count_matrix)[0][1])"
   ]
  },
  {
   "cell_type": "code",
   "execution_count": 26,
   "id": "3ccfedec",
   "metadata": {},
   "outputs": [],
   "source": [
    "\n",
    "job_score = pd.DataFrame(similarity_scores, columns = ['similarity_scores'])\n"
   ]
  },
  {
   "cell_type": "code",
   "execution_count": 27,
   "id": "591d596d",
   "metadata": {},
   "outputs": [],
   "source": [
    "linkedin_company_url_cleaned = []\n",
    "jobdescription = []\n",
    "job_scores = []\n",
    "for i in job_score['similarity_scores'].nlargest(n=10).index.to_list():\n",
    "    linkedin_company_url_cleaned.append(linkedin_data.iloc[i]['linkedin_company_url_cleaned'])\n",
    "    jobdescription.append(linkedin_data.iloc[i]['full_text'])\n",
    "    job_scores.append(job_score.iloc[i]['similarity_scores'])"
   ]
  },
  {
   "cell_type": "code",
   "execution_count": 28,
   "id": "25e4e0dd",
   "metadata": {},
   "outputs": [],
   "source": [
    "top_10_jobs_list = list(zip(linkedin_company_url_cleaned,jobdescription,job_scores))"
   ]
  },
  {
   "cell_type": "code",
   "execution_count": 29,
   "id": "e8c16521",
   "metadata": {},
   "outputs": [],
   "source": [
    "top_10_jobs = pd.DataFrame(top_10_jobs_list, columns = ['advertiserurl','jobdescription','job_scores'])"
   ]
  },
  {
   "cell_type": "code",
   "execution_count": 30,
   "id": "857850cd",
   "metadata": {},
   "outputs": [
    {
     "data": {
      "text/html": [
       "<div>\n",
       "<style scoped>\n",
       "    .dataframe tbody tr th:only-of-type {\n",
       "        vertical-align: middle;\n",
       "    }\n",
       "\n",
       "    .dataframe tbody tr th {\n",
       "        vertical-align: top;\n",
       "    }\n",
       "\n",
       "    .dataframe thead th {\n",
       "        text-align: right;\n",
       "    }\n",
       "</style>\n",
       "<table border=\"1\" class=\"dataframe\">\n",
       "  <thead>\n",
       "    <tr style=\"text-align: right;\">\n",
       "      <th></th>\n",
       "      <th>advertiserurl</th>\n",
       "      <th>jobdescription</th>\n",
       "      <th>job_scores</th>\n",
       "    </tr>\n",
       "  </thead>\n",
       "  <tbody>\n",
       "    <tr>\n",
       "      <th>0</th>\n",
       "      <td>https://de.linkedin.com/company/baobabinsurance</td>\n",
       "      <td>\\n\\n\\nYour missionIf you have a gift of innova...</td>\n",
       "      <td>0.263844</td>\n",
       "    </tr>\n",
       "    <tr>\n",
       "      <th>1</th>\n",
       "      <td>https://de.linkedin.com/company/zalando</td>\n",
       "      <td>\\n\\n\\nTHE ROLE &amp; THE TEAMAt zStudios Content A...</td>\n",
       "      <td>0.184889</td>\n",
       "    </tr>\n",
       "    <tr>\n",
       "      <th>2</th>\n",
       "      <td>https://de.linkedin.com/company/babbel-com</td>\n",
       "      <td>\\n\\n\\n        Babbel is driven by a purpose: C...</td>\n",
       "      <td>0.176248</td>\n",
       "    </tr>\n",
       "    <tr>\n",
       "      <th>3</th>\n",
       "      <td>https://de.linkedin.com/company/goflink</td>\n",
       "      <td>\\n\\n\\nCompany DescriptionWe are Flink - your o...</td>\n",
       "      <td>0.154661</td>\n",
       "    </tr>\n",
       "    <tr>\n",
       "      <th>4</th>\n",
       "      <td>https://de.linkedin.com/company/y42-business-i...</td>\n",
       "      <td>\\n\\n\\n        Y42 is a fast-growing company, f...</td>\n",
       "      <td>0.135852</td>\n",
       "    </tr>\n",
       "    <tr>\n",
       "      <th>5</th>\n",
       "      <td>https://de.linkedin.com/company/dimpact-io</td>\n",
       "      <td>\\n\\n\\n🚀The Mission:Our client, a Stealth Start...</td>\n",
       "      <td>0.117884</td>\n",
       "    </tr>\n",
       "    <tr>\n",
       "      <th>6</th>\n",
       "      <td>https://de.linkedin.com/company/vaayu</td>\n",
       "      <td>\\n\\n\\n        At Vaayu, we are on a mission to...</td>\n",
       "      <td>0.109274</td>\n",
       "    </tr>\n",
       "    <tr>\n",
       "      <th>7</th>\n",
       "      <td>https://de.linkedin.com/company/basf</td>\n",
       "      <td>\\n\\n\\n        Along the order-to-cash process,...</td>\n",
       "      <td>0.108700</td>\n",
       "    </tr>\n",
       "    <tr>\n",
       "      <th>8</th>\n",
       "      <td>https://de.linkedin.com/company/choco-app</td>\n",
       "      <td>\\n\\n\\n        At Choco, we’re striving to buil...</td>\n",
       "      <td>0.106332</td>\n",
       "    </tr>\n",
       "    <tr>\n",
       "      <th>9</th>\n",
       "      <td>https://de.linkedin.com/company/zolar-gmbh</td>\n",
       "      <td>\\n\\n\\nYour role at zolarYou continuously impro...</td>\n",
       "      <td>0.101727</td>\n",
       "    </tr>\n",
       "  </tbody>\n",
       "</table>\n",
       "</div>"
      ],
      "text/plain": [
       "                                       advertiserurl  \\\n",
       "0    https://de.linkedin.com/company/baobabinsurance   \n",
       "1            https://de.linkedin.com/company/zalando   \n",
       "2         https://de.linkedin.com/company/babbel-com   \n",
       "3            https://de.linkedin.com/company/goflink   \n",
       "4  https://de.linkedin.com/company/y42-business-i...   \n",
       "5         https://de.linkedin.com/company/dimpact-io   \n",
       "6              https://de.linkedin.com/company/vaayu   \n",
       "7               https://de.linkedin.com/company/basf   \n",
       "8          https://de.linkedin.com/company/choco-app   \n",
       "9         https://de.linkedin.com/company/zolar-gmbh   \n",
       "\n",
       "                                      jobdescription  job_scores  \n",
       "0  \\n\\n\\nYour missionIf you have a gift of innova...    0.263844  \n",
       "1  \\n\\n\\nTHE ROLE & THE TEAMAt zStudios Content A...    0.184889  \n",
       "2  \\n\\n\\n        Babbel is driven by a purpose: C...    0.176248  \n",
       "3  \\n\\n\\nCompany DescriptionWe are Flink - your o...    0.154661  \n",
       "4  \\n\\n\\n        Y42 is a fast-growing company, f...    0.135852  \n",
       "5  \\n\\n\\n🚀The Mission:Our client, a Stealth Start...    0.117884  \n",
       "6  \\n\\n\\n        At Vaayu, we are on a mission to...    0.109274  \n",
       "7  \\n\\n\\n        Along the order-to-cash process,...    0.108700  \n",
       "8  \\n\\n\\n        At Choco, we’re striving to buil...    0.106332  \n",
       "9  \\n\\n\\nYour role at zolarYou continuously impro...    0.101727  "
      ]
     },
     "execution_count": 30,
     "metadata": {},
     "output_type": "execute_result"
    }
   ],
   "source": [
    "top_10_jobs"
   ]
  },
  {
   "cell_type": "code",
   "execution_count": null,
   "id": "014abafc",
   "metadata": {},
   "outputs": [],
   "source": []
  },
  {
   "cell_type": "code",
   "execution_count": null,
   "id": "808e8bbb",
   "metadata": {},
   "outputs": [],
   "source": []
  },
  {
   "cell_type": "code",
   "execution_count": null,
   "id": "d135978d",
   "metadata": {},
   "outputs": [],
   "source": []
  },
  {
   "cell_type": "code",
   "execution_count": null,
   "id": "3b052a49",
   "metadata": {},
   "outputs": [],
   "source": []
  },
  {
   "cell_type": "code",
   "execution_count": null,
   "id": "82452e85",
   "metadata": {},
   "outputs": [],
   "source": []
  },
  {
   "cell_type": "code",
   "execution_count": null,
   "id": "2839e631",
   "metadata": {},
   "outputs": [],
   "source": []
  },
  {
   "cell_type": "code",
   "execution_count": null,
   "id": "b805de78",
   "metadata": {},
   "outputs": [],
   "source": []
  },
  {
   "cell_type": "code",
   "execution_count": null,
   "id": "c203aead",
   "metadata": {},
   "outputs": [],
   "source": []
  },
  {
   "cell_type": "code",
   "execution_count": null,
   "id": "b67abf6e",
   "metadata": {},
   "outputs": [],
   "source": []
  },
  {
   "cell_type": "markdown",
   "id": "2f8cbde2",
   "metadata": {},
   "source": [
    "i=[]\n",
    "\n",
    "for a in range(0,2):\n",
    "    b = str(a)\n",
    "    c = \"\".join(('\"', b, '\"'))\n",
    "        \n",
    "    url = \"https://indeed11.p.rapidapi.com/\"\n",
    "\n",
    "    payload = {\n",
    "        \"search_terms\": \"startup\",\n",
    "        \"location\": \"Berlin\",\n",
    "        \"page\": c,\n",
    "        \"fetch_full_text\": \"yes\"\n",
    "        }\n",
    "    headers = {\n",
    "            \"content-type\": \"application/json\",\n",
    "            \"X-RapidAPI-Host\": \"indeed11.p.rapidapi.com\",\n",
    "            \"X-RapidAPI-Key\": \"e59a85ffc9mshd439a8fc17a686ep17369fjsn188a0cc3d5dd\"\n",
    "        }\n",
    "\n",
    "    response_indeed = requests.request(\"POST\", url, json=payload, headers=headers)\n",
    "    j = response_indeed.json()\n",
    "    i.append(j)\n",
    "    print(response_indeed.text)\n",
    "    print(j)\n",
    "    print(i)\n",
    "    d= random.randint(1, 2)\n",
    "    time.sleep(d)"
   ]
  }
 ],
 "metadata": {
  "kernelspec": {
   "display_name": "Python 3 (ipykernel)",
   "language": "python",
   "name": "python3"
  },
  "language_info": {
   "codemirror_mode": {
    "name": "ipython",
    "version": 3
   },
   "file_extension": ".py",
   "mimetype": "text/x-python",
   "name": "python",
   "nbconvert_exporter": "python",
   "pygments_lexer": "ipython3",
   "version": "3.9.7"
  }
 },
 "nbformat": 4,
 "nbformat_minor": 5
}
