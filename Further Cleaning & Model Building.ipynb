{
 "cells": [
  {
   "cell_type": "code",
   "execution_count": 2,
   "id": "6117e380",
   "metadata": {},
   "outputs": [],
   "source": [
    "##Importing libraries\n",
    "import pandas as pd\n",
    "import requests\n",
    "import pickle\n",
    "import re\n",
    "import string\n",
    "import unidecode \n",
    "import wordninja\n",
    "import docx2txt\n",
    "from nltk.stem import PorterStemmer\n",
    "from nltk.tokenize import word_tokenize\n",
    "from nltk.stem import WordNetLemmatizer \n",
    "from autocorrect import Speller \n",
    "from nltk.corpus import stopwords \n",
    "from nltk import word_tokenize \n",
    "import seaborn as sns, numpy as np\n",
    "import matplotlib.pyplot as plt\n",
    "from nltk.stem import SnowballStemmer\n",
    "\n",
    "from sklearn.feature_extraction.text import CountVectorizer, TfidfTransformer\n",
    "from alive_progress import alive_bar\n",
    "pd.set_option(\"display.max_rows\", None, \"display.max_columns\", None)\n",
    "\n",
    "from sklearn.feature_extraction.text import CountVectorizer, TfidfTransformer\n",
    "from sklearn.linear_model import SGDClassifier\n",
    "from sklearn.metrics.pairwise import cosine_similarity\n",
    "\n",
    "\n"
   ]
  },
  {
   "cell_type": "code",
   "execution_count": 4,
   "id": "1220a448",
   "metadata": {},
   "outputs": [],
   "source": [
    "##Pull the data out\n",
    "data_clean = pd.DataFrame()\n",
    "df_resume = pd.DataFrame()\n",
    "data_clean = pd.read_pickle('clean_data.pkl')\n",
    "df_resume = pd.read_pickle('df_resume.pkl')"
   ]
  },
  {
   "cell_type": "code",
   "execution_count": 5,
   "id": "5e57863f",
   "metadata": {},
   "outputs": [],
   "source": [
    "data_clean_stopwords = pd.DataFrame()\n",
    "data_clean_stopwords = pd.read_pickle('data_clean_stopwords.pkl')\n"
   ]
  },
  {
   "cell_type": "code",
   "execution_count": 6,
   "id": "8c210499",
   "metadata": {},
   "outputs": [],
   "source": [
    "data = pd.read_csv('dice_com-job_us_sample.csv')"
   ]
  },
  {
   "cell_type": "code",
   "execution_count": 7,
   "id": "e534603e",
   "metadata": {},
   "outputs": [],
   "source": [
    "resume_ori = docx2txt.process(\"Sample_CV.docx\")"
   ]
  },
  {
   "cell_type": "code",
   "execution_count": 8,
   "id": "89eb0597",
   "metadata": {},
   "outputs": [],
   "source": [
    "#A deeper cleaning: Stemming\n",
    "stemmer = SnowballStemmer(\"english\")\n",
    "\n",
    "def stemm_text(text):\n",
    "    text = ' '.join(stemmer.stem(word) for word in text.split(' '))\n",
    "    return text"
   ]
  },
  {
   "cell_type": "code",
   "execution_count": 9,
   "id": "553e8a91",
   "metadata": {},
   "outputs": [
    {
     "data": {
      "text/html": [
       "<div>\n",
       "<style scoped>\n",
       "    .dataframe tbody tr th:only-of-type {\n",
       "        vertical-align: middle;\n",
       "    }\n",
       "\n",
       "    .dataframe tbody tr th {\n",
       "        vertical-align: top;\n",
       "    }\n",
       "\n",
       "    .dataframe thead th {\n",
       "        text-align: right;\n",
       "    }\n",
       "</style>\n",
       "<table border=\"1\" class=\"dataframe\">\n",
       "  <thead>\n",
       "    <tr style=\"text-align: right;\">\n",
       "      <th></th>\n",
       "      <th>jobdescription</th>\n",
       "    </tr>\n",
       "  </thead>\n",
       "  <tbody>\n",
       "    <tr>\n",
       "      <th>0</th>\n",
       "      <td>look for selenium engin must have solid java c...</td>\n",
       "    </tr>\n",
       "    <tr>\n",
       "      <th>1</th>\n",
       "      <td>the univers of chicago has a rapid grow secur ...</td>\n",
       "    </tr>\n",
       "    <tr>\n",
       "      <th>2</th>\n",
       "      <td>galax solutionseveri day our solut affect peop...</td>\n",
       "    </tr>\n",
       "    <tr>\n",
       "      <th>3</th>\n",
       "      <td>java developerful time direct hire bo ling bro...</td>\n",
       "    </tr>\n",
       "    <tr>\n",
       "      <th>4</th>\n",
       "      <td>midtown base high tech firm has an immedi need...</td>\n",
       "    </tr>\n",
       "  </tbody>\n",
       "</table>\n",
       "</div>"
      ],
      "text/plain": [
       "                                      jobdescription\n",
       "0  look for selenium engin must have solid java c...\n",
       "1  the univers of chicago has a rapid grow secur ...\n",
       "2  galax solutionseveri day our solut affect peop...\n",
       "3  java developerful time direct hire bo ling bro...\n",
       "4  midtown base high tech firm has an immedi need..."
      ]
     },
     "execution_count": 9,
     "metadata": {},
     "output_type": "execute_result"
    }
   ],
   "source": [
    "data_clean1 = pd.DataFrame(data_clean.jobdescription.apply(stemm_text))\n",
    "data_clean1.head()"
   ]
  },
  {
   "cell_type": "code",
   "execution_count": 12,
   "id": "3b9cfcd0",
   "metadata": {},
   "outputs": [
    {
     "data": {
      "text/html": [
       "<div>\n",
       "<style scoped>\n",
       "    .dataframe tbody tr th:only-of-type {\n",
       "        vertical-align: middle;\n",
       "    }\n",
       "\n",
       "    .dataframe tbody tr th {\n",
       "        vertical-align: top;\n",
       "    }\n",
       "\n",
       "    .dataframe thead th {\n",
       "        text-align: right;\n",
       "    }\n",
       "</style>\n",
       "<table border=\"1\" class=\"dataframe\">\n",
       "  <thead>\n",
       "    <tr style=\"text-align: right;\">\n",
       "      <th></th>\n",
       "      <th>resume</th>\n",
       "    </tr>\n",
       "  </thead>\n",
       "  <tbody>\n",
       "    <tr>\n",
       "      <th>0</th>\n",
       "      <td>maria lisa email phone five five career summar...</td>\n",
       "    </tr>\n",
       "  </tbody>\n",
       "</table>\n",
       "</div>"
      ],
      "text/plain": [
       "                                              resume\n",
       "0  maria lisa email phone five five career summar..."
      ]
     },
     "execution_count": 12,
     "metadata": {},
     "output_type": "execute_result"
    }
   ],
   "source": [
    "df_resume1 = pd.DataFrame(df_resume.resume.apply(stemm_text))\n",
    "df_resume1.head()"
   ]
  },
  {
   "cell_type": "markdown",
   "id": "9171012b",
   "metadata": {},
   "source": [
    "## Vectorization"
   ]
  },
  {
   "cell_type": "code",
   "execution_count": 10,
   "id": "da38d1bc",
   "metadata": {},
   "outputs": [],
   "source": [
    "vect = CountVectorizer(stop_words='english')\n",
    "vect1 = CountVectorizer()\n",
    "tfidf_transformer = TfidfTransformer()"
   ]
  },
  {
   "cell_type": "code",
   "execution_count": 13,
   "id": "d7610ac2",
   "metadata": {},
   "outputs": [],
   "source": [
    "#check the similarity score with stop words\n",
    "similarity_scores = []\n",
    "resume = df_resume1['resume'].iloc[0]\n",
    "for i in range(0,len(data_clean1)):\n",
    "    job_description = data_clean1['jobdescription'].iloc[i]\n",
    "    text = [resume, job_description]\n",
    "    count_matrix = vect1.fit_transform(text)\n",
    "    tfidf_transformer.fit(count_matrix)\n",
    "    data_clean_tfidf = tfidf_transformer.transform(count_matrix)\n",
    "    similarity_scores.append(cosine_similarity(data_clean_tfidf)[0][1])\n"
   ]
  },
  {
   "cell_type": "code",
   "execution_count": 14,
   "id": "66727ffa",
   "metadata": {},
   "outputs": [],
   "source": [
    "#check the similarity score without stop words and using both CountVectorizer and TfidfTransformer\n",
    "similarity_scores_vect_tfidf = []\n",
    "resume = df_resume1['resume'].iloc[0]\n",
    "for i in range(0,len(data_clean1)):\n",
    "    job_description = data_clean1['jobdescription'].iloc[i]\n",
    "    text = [resume, job_description]\n",
    "    count_matrix = vect.fit_transform(text)\n",
    "    tfidf_transformer.fit(count_matrix)\n",
    "    data_clean_tfidf = tfidf_transformer.transform(count_matrix)\n",
    "    similarity_scores_vect_tfidf.append(cosine_similarity(data_clean_tfidf)[0][1])\n"
   ]
  },
  {
   "cell_type": "code",
   "execution_count": 15,
   "id": "c187c879",
   "metadata": {},
   "outputs": [],
   "source": [
    "#check the similarity score without stop words and using CountVectorizer \n",
    "similarity_scores_vect = []\n",
    "resume = df_resume1['resume'].iloc[0]\n",
    "for i in range(0,len(data_clean1)):\n",
    "    job_description = data_clean1['jobdescription'].iloc[i]\n",
    "    text = [resume, job_description]\n",
    "    count_matrix = vect.fit_transform(text)\n",
    "    similarity_scores_vect.append(cosine_similarity(count_matrix)[0][1])\n"
   ]
  },
  {
   "cell_type": "code",
   "execution_count": 16,
   "id": "de69920b",
   "metadata": {},
   "outputs": [],
   "source": [
    "##creating a dataframe to store the similiary store\n",
    "job_score = pd.DataFrame(similarity_scores, columns = ['similarity_scores_with_stop_words'])\n",
    "job_score['similarity_scores_vect_tfidf'] = similarity_scores_vect_tfidf\n",
    "job_score['similarity_scores_vect'] = similarity_scores_vect\n",
    "job_score['advertiserurl'] = data['advertiserurl']\n",
    "job_score['jobdescription'] = data['jobdescription']\n",
    "job_score['max_rank_vect'] = job_score['similarity_scores_vect'].rank(method='max')\n",
    "job_score['max_rank_vect_tfidf'] = job_score['similarity_scores_vect_tfidf'].rank(method='max')"
   ]
  },
  {
   "cell_type": "code",
   "execution_count": null,
   "id": "2c576ad4",
   "metadata": {},
   "outputs": [],
   "source": [
    "job_score"
   ]
  },
  {
   "cell_type": "code",
   "execution_count": 20,
   "id": "a93d647a",
   "metadata": {},
   "outputs": [
    {
     "name": "stderr",
     "output_type": "stream",
     "text": [
      "/usr/local/anaconda3/lib/python3.9/site-packages/seaborn/distributions.py:2619: FutureWarning: `distplot` is a deprecated function and will be removed in a future version. Please adapt your code to use either `displot` (a figure-level function with similar flexibility) or `histplot` (an axes-level function for histograms).\n",
      "  warnings.warn(msg, FutureWarning)\n",
      "/usr/local/anaconda3/lib/python3.9/site-packages/seaborn/distributions.py:2619: FutureWarning: `distplot` is a deprecated function and will be removed in a future version. Please adapt your code to use either `displot` (a figure-level function with similar flexibility) or `histplot` (an axes-level function for histograms).\n",
      "  warnings.warn(msg, FutureWarning)\n",
      "/usr/local/anaconda3/lib/python3.9/site-packages/seaborn/distributions.py:2619: FutureWarning: `distplot` is a deprecated function and will be removed in a future version. Please adapt your code to use either `displot` (a figure-level function with similar flexibility) or `histplot` (an axes-level function for histograms).\n",
      "  warnings.warn(msg, FutureWarning)\n"
     ]
    },
    {
     "data": {
      "text/plain": [
       "<AxesSubplot:xlabel='similarity_scores_vect_tfidf', ylabel='Density'>"
      ]
     },
     "execution_count": 20,
     "metadata": {},
     "output_type": "execute_result"
    },
    {
     "data": {
      "image/png": "[encoded data removed]",
      "text/plain": [
       "<Figure size 432x288 with 1 Axes>"
      ]
     },
     "metadata": {
      "needs_background": "light"
     },
     "output_type": "display_data"
    }
   ],
   "source": [
    "sns.distplot(job_score['similarity_scores_with_stop_words'],color='red')\n",
    "sns.distplot(job_score['similarity_scores_vect'],color='yellow')\n",
    "sns.distplot(job_score['similarity_scores_vect_tfidf'],color='green')"
   ]
  },
  {
   "cell_type": "code",
   "execution_count": 75,
   "id": "33e528de",
   "metadata": {},
   "outputs": [],
   "source": [
    "##creating the dataframe to store top 10 jobs. \n",
    "advertiserurl = []\n",
    "jobdescription = []\n",
    "job_scores = []\n",
    "bag_of_words = []\n",
    "top_keywords = []\n",
    "for i in job_score['similarity_scores_vect'].nlargest(n=10).index.to_list():\n",
    "    advertiserurl.append(data.iloc[i]['advertiserurl'])\n",
    "    jobdescription.append(data.iloc[i]['jobdescription'])\n",
    "    job_scores.append(job_score.iloc[i]['similarity_scores_vect'])\n",
    "    bag_of_words.append(data_clean_stopwords.iloc[i]['jobdescription'])\n",
    "    #top_keywords.append(data_clean[i]['jobdescription'].split().value_counts()[0:10])"
   ]
  },
  {
   "cell_type": "code",
   "execution_count": 77,
   "id": "bae089a7",
   "metadata": {},
   "outputs": [],
   "source": [
    "top_10_jobs_list = list(zip(advertiserurl,jobdescription,job_scores,bag_of_words))"
   ]
  },
  {
   "cell_type": "code",
   "execution_count": 78,
   "id": "0083af8c",
   "metadata": {},
   "outputs": [],
   "source": [
    "top_10_jobs = pd.DataFrame(top_10_jobs_list, columns = ['advertiserurl','jobdescription','job_scores','bag_of_words'])"
   ]
  },
  {
   "cell_type": "code",
   "execution_count": 79,
   "id": "3ce9d34d",
   "metadata": {},
   "outputs": [
    {
     "data": {
      "text/html": [
       "<div>\n",
       "<style scoped>\n",
       "    .dataframe tbody tr th:only-of-type {\n",
       "        vertical-align: middle;\n",
       "    }\n",
       "\n",
       "    .dataframe tbody tr th {\n",
       "        vertical-align: top;\n",
       "    }\n",
       "\n",
       "    .dataframe thead th {\n",
       "        text-align: right;\n",
       "    }\n",
       "</style>\n",
       "<table border=\"1\" class=\"dataframe\">\n",
       "  <thead>\n",
       "    <tr style=\"text-align: right;\">\n",
       "      <th></th>\n",
       "      <th>advertiserurl</th>\n",
       "      <th>jobdescription</th>\n",
       "      <th>job_scores</th>\n",
       "      <th>bag_of_words</th>\n",
       "    </tr>\n",
       "  </thead>\n",
       "  <tbody>\n",
       "    <tr>\n",
       "      <th>0</th>\n",
       "      <td>https://www.dice.com/jobs/detail/Sr.-Web-Devel...</td>\n",
       "      <td>We are currently seeking a senior full stack w...</td>\n",
       "      <td>0.571158</td>\n",
       "      <td>'we currently seeking senior full stack web de...</td>\n",
       "    </tr>\n",
       "    <tr>\n",
       "      <th>1</th>\n",
       "      <td>https://www.dice.com/jobs/detail/SDET-%2526%25...</td>\n",
       "      <td>SDET with good Database experienceContract opp...</td>\n",
       "      <td>0.553467</td>\n",
       "      <td>'sdet good database experience contract opport...</td>\n",
       "    </tr>\n",
       "    <tr>\n",
       "      <th>2</th>\n",
       "      <td>https://www.dice.com/jobs/detail/Core-Java-Dev...</td>\n",
       "      <td>Synechron on behalf of our leading financial c...</td>\n",
       "      <td>0.542909</td>\n",
       "      <td>'synechron behalf leading financial client loo...</td>\n",
       "    </tr>\n",
       "    <tr>\n",
       "      <th>3</th>\n",
       "      <td>https://www.dice.com/jobs/detail/Core-Java-Dev...</td>\n",
       "      <td>Synechron on behalf of our leading financial c...</td>\n",
       "      <td>0.542909</td>\n",
       "      <td>'synechron behalf leading financial client loo...</td>\n",
       "    </tr>\n",
       "    <tr>\n",
       "      <th>4</th>\n",
       "      <td>https://www.dice.com/jobs/detail/Core-Java-Dev...</td>\n",
       "      <td>Synechron on behalf of our leading financial c...</td>\n",
       "      <td>0.542909</td>\n",
       "      <td>'synechron behalf leading financial client loo...</td>\n",
       "    </tr>\n",
       "    <tr>\n",
       "      <th>5</th>\n",
       "      <td>https://www.dice.com/jobs/detail/Sr-Java-Devel...</td>\n",
       "      <td>Synechron on behalf of our leading financial c...</td>\n",
       "      <td>0.535548</td>\n",
       "      <td>'synechron behalf leading financial client loo...</td>\n",
       "    </tr>\n",
       "    <tr>\n",
       "      <th>6</th>\n",
       "      <td>https://www.dice.com/jobs/detail/Senior-Cloud-...</td>\n",
       "      <td>Ossia is looking for a Senior Cloud Engineer t...</td>\n",
       "      <td>0.529041</td>\n",
       "      <td>`` ossia looking senior cloud engineer help ar...</td>\n",
       "    </tr>\n",
       "    <tr>\n",
       "      <th>7</th>\n",
       "      <td>https://www.dice.com/jobs/detail/Developer--So...</td>\n",
       "      <td>Sutoer Solutions is looking for a contract Sof...</td>\n",
       "      <td>0.526290</td>\n",
       "      <td>'su er solutions looking contract software dev...</td>\n",
       "    </tr>\n",
       "    <tr>\n",
       "      <th>8</th>\n",
       "      <td>https://www.dice.com/jobs/detail/LEAD-Full-Sta...</td>\n",
       "      <td>Lead Full Stack Developers/Senior Software Eng...</td>\n",
       "      <td>0.524375</td>\n",
       "      <td>`` lead full stack developers senior software ...</td>\n",
       "    </tr>\n",
       "    <tr>\n",
       "      <th>9</th>\n",
       "      <td>https://www.dice.com/jobs/detail/FullStack-Pyt...</td>\n",
       "      <td>Job Title: Full stack python developerLocation...</td>\n",
       "      <td>0.521704</td>\n",
       "      <td>'job title full stack python developerlocation...</td>\n",
       "    </tr>\n",
       "  </tbody>\n",
       "</table>\n",
       "</div>"
      ],
      "text/plain": [
       "                                       advertiserurl  \\\n",
       "0  https://www.dice.com/jobs/detail/Sr.-Web-Devel...   \n",
       "1  https://www.dice.com/jobs/detail/SDET-%2526%25...   \n",
       "2  https://www.dice.com/jobs/detail/Core-Java-Dev...   \n",
       "3  https://www.dice.com/jobs/detail/Core-Java-Dev...   \n",
       "4  https://www.dice.com/jobs/detail/Core-Java-Dev...   \n",
       "5  https://www.dice.com/jobs/detail/Sr-Java-Devel...   \n",
       "6  https://www.dice.com/jobs/detail/Senior-Cloud-...   \n",
       "7  https://www.dice.com/jobs/detail/Developer--So...   \n",
       "8  https://www.dice.com/jobs/detail/LEAD-Full-Sta...   \n",
       "9  https://www.dice.com/jobs/detail/FullStack-Pyt...   \n",
       "\n",
       "                                      jobdescription  job_scores  \\\n",
       "0  We are currently seeking a senior full stack w...    0.571158   \n",
       "1  SDET with good Database experienceContract opp...    0.553467   \n",
       "2  Synechron on behalf of our leading financial c...    0.542909   \n",
       "3  Synechron on behalf of our leading financial c...    0.542909   \n",
       "4  Synechron on behalf of our leading financial c...    0.542909   \n",
       "5  Synechron on behalf of our leading financial c...    0.535548   \n",
       "6  Ossia is looking for a Senior Cloud Engineer t...    0.529041   \n",
       "7  Sutoer Solutions is looking for a contract Sof...    0.526290   \n",
       "8  Lead Full Stack Developers/Senior Software Eng...    0.524375   \n",
       "9  Job Title: Full stack python developerLocation...    0.521704   \n",
       "\n",
       "                                        bag_of_words  \n",
       "0  'we currently seeking senior full stack web de...  \n",
       "1  'sdet good database experience contract opport...  \n",
       "2  'synechron behalf leading financial client loo...  \n",
       "3  'synechron behalf leading financial client loo...  \n",
       "4  'synechron behalf leading financial client loo...  \n",
       "5  'synechron behalf leading financial client loo...  \n",
       "6  `` ossia looking senior cloud engineer help ar...  \n",
       "7  'su er solutions looking contract software dev...  \n",
       "8  `` lead full stack developers senior software ...  \n",
       "9  'job title full stack python developerlocation...  "
      ]
     },
     "execution_count": 79,
     "metadata": {},
     "output_type": "execute_result"
    }
   ],
   "source": [
    "top_10_jobs"
   ]
  },
  {
   "cell_type": "code",
   "execution_count": 76,
   "id": "51f323d9",
   "metadata": {},
   "outputs": [
    {
     "data": {
      "text/plain": [
       "experience          7\n",
       "skills              6\n",
       "websphere           6\n",
       "development         6\n",
       "strong              5\n",
       "software            5\n",
       "testing             5\n",
       "java                5\n",
       "build               4\n",
       "knowledge           4\n",
       "complex             4\n",
       "applications        4\n",
       "proficient          4\n",
       "hands               3\n",
       "working             3\n",
       "teams               3\n",
       "systems             3\n",
       "scripting           3\n",
       "test                3\n",
       "unix                3\n",
       "engineering         3\n",
       "retail              3\n",
       "soap                3\n",
       "engineers           2\n",
       "solutions           2\n",
       "design              2\n",
       "sustainability      2\n",
       "fast                2\n",
       "delivery            2\n",
       "selenium            2\n",
       "services            2\n",
       "following           2\n",
       "server              2\n",
       "frameworks          2\n",
       "groovy              2\n",
       "health              2\n",
       "improve             2\n",
       "relational          2\n",
       "lisa                2\n",
       "problems            2\n",
       "must                2\n",
       "networks            2\n",
       "platforms           2\n",
       "platform            2\n",
       "one                 2\n",
       "databases           2\n",
       "mq                  2\n",
       "paced               2\n",
       "windows             2\n",
       "tools               2\n",
       "client              2\n",
       "ui                  2\n",
       "understanding       2\n",
       "web                 2\n",
       "collaborate         2\n",
       "analyze             2\n",
       "commerce            2\n",
       "communication       2\n",
       "work                2\n",
       "comprehensive       2\n",
       "application         2\n",
       "written             2\n",
       "building            2\n",
       "ability             2\n",
       "rate                1\n",
       "qa                  1\n",
       "releasing           1\n",
       "report              1\n",
       "reports             1\n",
       "qualities           1\n",
       "voice               1\n",
       "resolve             1\n",
       "responsibilities    1\n",
       "qualifications      1\n",
       "responsibility      1\n",
       "quality             1\n",
       "products            1\n",
       "purpose             1\n",
       "positive            1\n",
       "perl                1\n",
       "perm                1\n",
       "permanent           1\n",
       "person              1\n",
       "planning            1\n",
       "position            1\n",
       "practices           1\n",
       "programming         1\n",
       "preferred           1\n",
       "problem             1\n",
       "want                1\n",
       "process             1\n",
       "rest                1\n",
       "wan                 1\n",
       "verbal              1\n",
       "tasks               1\n",
       "result              1\n",
       "siebel              1\n",
       "three               1\n",
       "peoplesoft          1\n",
       "solid               1\n",
       "solution            1\n",
       "tested              1\n",
       "solve               1\n",
       "solving             1\n",
       "someone             1\n",
       "sql                 1\n",
       "structures          1\n",
       "testability         1\n",
       "successes           1\n",
       "technology          1\n",
       "technologies        1\n",
       "team                1\n",
       "six                 1\n",
       "tooling             1\n",
       "results             1\n",
       "shell               1\n",
       "velocity            1\n",
       "role                1\n",
       "svn                 1\n",
       "utilizing           1\n",
       "scalable            1\n",
       "scale               1\n",
       "scope               1\n",
       "using               1\n",
       "users               1\n",
       "understand          1\n",
       "see                 1\n",
       "self                1\n",
       "typically           1\n",
       "touch               1\n",
       "several             1\n",
       "sap                 1\n",
       "''                  1\n",
       "passion             1\n",
       "collaborating       1\n",
       "computing           1\n",
       "contribute          1\n",
       "coordinate          1\n",
       "creating            1\n",
       "critical            1\n",
       "cross               1\n",
       "cutting             1\n",
       "data                1\n",
       "debugging           1\n",
       "desire              1\n",
       "developers          1\n",
       "dissect             1\n",
       "eagerness           1\n",
       "ecommerce           1\n",
       "edge                1\n",
       "efforts             1\n",
       "engineer            1\n",
       "ensuring            1\n",
       "environment         1\n",
       "ethic               1\n",
       "etl                 1\n",
       "competencies        1\n",
       "coding              1\n",
       "execution           1\n",
       "cobol               1\n",
       "ab                  1\n",
       "abilities           1\n",
       "able                1\n",
       "accountabilities    1\n",
       "across              1\n",
       "adopt               1\n",
       "advanced            1\n",
       "aid                 1\n",
       "analytical          1\n",
       "aptitude            1\n",
       "associates          1\n",
       "assures             1\n",
       "attitude            1\n",
       "automated           1\n",
       "automation          1\n",
       "basis               1\n",
       "batch               1\n",
       "best                1\n",
       "bourne              1\n",
       "break               1\n",
       "challenges          1\n",
       "excellent           1\n",
       "exist               1\n",
       "overall             1\n",
       "language            1\n",
       "lead                1\n",
       "learn               1\n",
       "looking             1\n",
       "major               1\n",
       "manager             1\n",
       "measure             1\n",
       "methodically        1\n",
       "millions            1\n",
       "month               1\n",
       "motivated           1\n",
       "``                  1\n",
       "mvs                 1\n",
       "n't                 1\n",
       "nature              1\n",
       "networking          1\n",
       "new                 1\n",
       "object              1\n",
       "openings            1\n",
       "oral                1\n",
       "orientated          1\n",
       "oriented            1\n",
       "large               1\n",
       "lan                 1\n",
       "expect              1\n",
       "ksh                 1\n",
       "experts             1\n",
       "five                1\n",
       "flexible            1\n",
       "forefront           1\n",
       "freedom             1\n",
       "functional          1\n",
       "go                  1\n",
       "growth              1\n",
       "help                1\n",
       "hire                1\n",
       "important           1\n",
       "increase            1\n",
       "increasing          1\n",
       "initio              1\n",
       "introduce           1\n",
       "issues              1\n",
       "itko                1\n",
       "jee                 1\n",
       "jenkins             1\n",
       "jmeter              1\n",
       "key                 1\n",
       "years               1\n",
       "dtype: int64"
      ]
     },
     "execution_count": 76,
     "metadata": {},
     "output_type": "execute_result"
    }
   ],
   "source": [
    "pd.DataFrame(''.join(data_clean_stopwords['jobdescription'][0]).split()).value_counts()"
   ]
  },
  {
   "cell_type": "code",
   "execution_count": null,
   "id": "05be02cc",
   "metadata": {},
   "outputs": [],
   "source": []
  },
  {
   "cell_type": "code",
   "execution_count": null,
   "id": "cbb3ee38",
   "metadata": {},
   "outputs": [],
   "source": []
  },
  {
   "cell_type": "code",
   "execution_count": null,
   "id": "5dcce991",
   "metadata": {},
   "outputs": [],
   "source": []
  },
  {
   "cell_type": "code",
   "execution_count": null,
   "id": "76aa3423",
   "metadata": {},
   "outputs": [],
   "source": []
  },
  {
   "cell_type": "markdown",
   "id": "cd77263b",
   "metadata": {},
   "source": [
    "## Using Bert"
   ]
  },
  {
   "cell_type": "code",
   "execution_count": null,
   "id": "96120976",
   "metadata": {},
   "outputs": [],
   "source": [
    "from transformers import BertTokenizer"
   ]
  },
  {
   "cell_type": "code",
   "execution_count": null,
   "id": "1f71e92b",
   "metadata": {},
   "outputs": [],
   "source": [
    "tokenizer = BertTokenizer.from_pretrained('bert-base-uncased')"
   ]
  },
  {
   "cell_type": "code",
   "execution_count": null,
   "id": "4ef5b79f",
   "metadata": {},
   "outputs": [],
   "source": [
    "similarity_scores_bert = []\n",
    "resume = df_resume['resume'].iloc[0]\n",
    "for i in range(0,len(data_clean1)):\n",
    "    job_description = data_clean1['jobdescription'].iloc[i]\n",
    "    text = [resume, job_description]\n",
    "    encoding = tokenizer.encode(text)\n",
    "    similarity_scores_bert.append(cosine_similarity(encoding)[0][1])\n"
   ]
  },
  {
   "cell_type": "code",
   "execution_count": null,
   "id": "0169282f",
   "metadata": {},
   "outputs": [],
   "source": [
    "## Bert has limitation with a maximun length of 512. "
   ]
  },
  {
   "cell_type": "code",
   "execution_count": null,
   "id": "1b742eed",
   "metadata": {},
   "outputs": [],
   "source": [
    "from tika import parser\n",
    "raw = parser.from_file('Yuan Feng, Johana Yi Bin.pdf')\n",
    "print(raw['content'])"
   ]
  },
  {
   "cell_type": "code",
   "execution_count": null,
   "id": "38dafec2",
   "metadata": {},
   "outputs": [],
   "source": [
    "pip install tika"
   ]
  }
 ],
 "metadata": {
  "kernelspec": {
   "display_name": "Python 3 (ipykernel)",
   "language": "python",
   "name": "python3"
  },
  "language_info": {
   "codemirror_mode": {
    "name": "ipython",
    "version": 3
   },
   "file_extension": ".py",
   "mimetype": "text/x-python",
   "name": "python",
   "nbconvert_exporter": "python",
   "pygments_lexer": "ipython3",
   "version": "3.9.7"
  }
 },
 "nbformat": 4,
 "nbformat_minor": 5
}
